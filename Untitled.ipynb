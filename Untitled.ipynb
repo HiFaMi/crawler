{
 "cells": [
  {
   "cell_type": "code",
   "execution_count": 46,
   "metadata": {},
   "outputs": [],
   "source": [
    "from numpy.linalg import inv, det\n",
    "import copy\n",
    "def cramer(aa, bb):\n",
    "    n = len(aa[0])\n",
    "    r_list = []\n",
    "    D = det(aa)\n",
    "\n",
    "    for j in range(n): \n",
    "        a = copy.deepcopy(aa)\n",
    "        print(aa)\n",
    "        print(id(a))\n",
    "        print(id(aa))\n",
    "        for i in range(n):\n",
    "            a[i][j] = bb[i]\n",
    "            print(a)\n",
    "        r_list.append(det(a)/D)\n",
    "\n",
    "    return r_list\n"
   ]
  },
  {
   "cell_type": "code",
   "execution_count": 47,
   "metadata": {},
   "outputs": [
    {
     "name": "stdout",
     "output_type": "stream",
     "text": [
      "[[-1, 3, 4], [-1, 1, 2], [3, -1, 1]]\n",
      "4650403528\n",
      "4500249032\n",
      "[[7, 3, 4], [-1, 1, 2], [3, -1, 1]]\n",
      "[[7, 3, 4], [1, 1, 2], [3, -1, 1]]\n",
      "[[7, 3, 4], [1, 1, 2], [8, -1, 1]]\n",
      "[[-1, 3, 4], [-1, 1, 2], [3, -1, 1]]\n",
      "4650596488\n",
      "4500249032\n",
      "[[-1, 7, 4], [-1, 1, 2], [3, -1, 1]]\n",
      "[[-1, 7, 4], [-1, 1, 2], [3, -1, 1]]\n",
      "[[-1, 7, 4], [-1, 1, 2], [3, 8, 1]]\n",
      "[[-1, 3, 4], [-1, 1, 2], [3, -1, 1]]\n",
      "4650403528\n",
      "4500249032\n",
      "[[-1, 3, 7], [-1, 1, 2], [3, -1, 1]]\n",
      "[[-1, 3, 7], [-1, 1, 1], [3, -1, 1]]\n",
      "[[-1, 3, 7], [-1, 1, 1], [3, -1, 8]]\n"
     ]
    },
    {
     "data": {
      "text/plain": [
       "[3.0, 1.9999999999999987, 1.0]"
      ]
     },
     "execution_count": 47,
     "metadata": {},
     "output_type": "execute_result"
    }
   ],
   "source": [
    "cramer([[-1,3,4], [-1, 1, 2], [3, -1, 1]], [7,1,8])"
   ]
  },
  {
   "cell_type": "code",
   "execution_count": 32,
   "metadata": {},
   "outputs": [],
   "source": [
    "def test(d, dd):\n",
    "    q = d.copy()\n",
    "    for i in range(len(d)):\n",
    "        q[i] = dd\n",
    "    print(d)\n",
    "    print(dd)"
   ]
  },
  {
   "cell_type": "code",
   "execution_count": 33,
   "metadata": {},
   "outputs": [
    {
     "name": "stdout",
     "output_type": "stream",
     "text": [
      "[1, 2, 3]\n",
      "[4, 4, 4]\n"
     ]
    }
   ],
   "source": [
    "test([1,2,3], 2)"
   ]
  },
  {
   "cell_type": "code",
   "execution_count": null,
   "metadata": {},
   "outputs": [],
   "source": []
  }
 ],
 "metadata": {
  "kernelspec": {
   "display_name": "Python 3",
   "language": "python",
   "name": "python3"
  },
  "language_info": {
   "codemirror_mode": {
    "name": "ipython",
    "version": 3
   },
   "file_extension": ".py",
   "mimetype": "text/x-python",
   "name": "python",
   "nbconvert_exporter": "python",
   "pygments_lexer": "ipython3",
   "version": "3.6.5"
  }
 },
 "nbformat": 4,
 "nbformat_minor": 2
}
