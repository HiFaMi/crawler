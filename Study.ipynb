{
 "cells": [
  {
   "cell_type": "code",
   "execution_count": 1,
   "metadata": {},
   "outputs": [],
   "source": [
    "def push(item):\n",
    "    stack.append(item)\n",
    "    \n",
    "def peek():\n",
    "    if len(stack) != 0:\n",
    "        return stack[-1]\n",
    "    \n",
    "def pop():\n",
    "    if len(stack) != 0:\n",
    "        item = stack.pop(-1)\n",
    "        return item\n"
   ]
  },
  {
   "cell_type": "code",
   "execution_count": 9,
   "metadata": {},
   "outputs": [
    {
     "name": "stdout",
     "output_type": "stream",
     "text": [
      "사과, 오렌지, 체리 push 후:\t['apple', 'orange', 'cheery'] \t<- top\n",
      "top 항목: cheery\n",
      "배 push 후:\t\t['apple', 'orange', 'cheery', 'pear'] \t<- top\n",
      "pop(), 포도 push 후:\t['apple', 'orange', 'cheery', 'grape'] \t<- top\n"
     ]
    }
   ],
   "source": [
    "stack = []\n",
    "push('apple')\n",
    "push('orange')\n",
    "push('cheery')\n",
    "print('사과, 오렌지, 체리 push 후:\\t', end='')\n",
    "print(stack, '\\t<- top')\n",
    "print('top 항목: ', end='')\n",
    "print(peek())\n",
    "push('pear')\n",
    "print('배 push 후:\\t\\t', end='')\n",
    "print(stack, '\\t<- top')\n",
    "pop()\n",
    "push('grape')\n",
    "print('pop(), 포도 push 후:\\t', end='')\n",
    "print(stack, '\\t<- top')"
   ]
  },
  {
   "cell_type": "code",
   "execution_count": 14,
   "metadata": {},
   "outputs": [
    {
     "data": {
      "text/plain": [
       "<reversed at 0x1078510b8>"
      ]
     },
     "execution_count": 14,
     "metadata": {},
     "output_type": "execute_result"
    }
   ],
   "source": [
    "reversed('python')"
   ]
  },
  {
   "cell_type": "code",
   "execution_count": 1,
   "metadata": {},
   "outputs": [
    {
     "name": "stdout",
     "output_type": "stream",
     "text": [
      "['s', 't', 'r', 'u', 'c', 't', 'u', 'r', 'e']\n"
     ]
    }
   ],
   "source": [
    "a = []\n",
    "a.extend('structure')\n",
    "print(a)"
   ]
  },
  {
   "cell_type": "code",
   "execution_count": 41,
   "metadata": {},
   "outputs": [],
   "source": [
    "def push(item):\n",
    "    stack.append(item)\n",
    "    \n",
    "def list_pop(stack):\n",
    "        if len(stack) != 0:\n",
    "            return stack.pop(-1)\n",
    "\n"
   ]
  },
  {
   "cell_type": "code",
   "execution_count": 65,
   "metadata": {},
   "outputs": [],
   "source": [
    "stack = []\n",
    "def check(string):\n",
    "    if len(stack) == 0:\n",
    "        push(string[0])\n",
    "    \n",
    "    for i in range(1, len(string)):\n",
    "        push(string[i])\n",
    "        if stack[-2] == '{' and stack[-1] == '}':\n",
    "            list_pop(stack)\n",
    "            list_pop(stack)\n",
    "        elif stack[-2] == '('and stack[-1] == ')':\n",
    "            list_pop(stack)\n",
    "            list_pop(stack)\n",
    "    \n",
    "    if len(stack) != 0:\n",
    "        print('False')\n",
    "    else:\n",
    "        print('Success')"
   ]
  },
  {
   "cell_type": "code",
   "execution_count": 68,
   "metadata": {},
   "outputs": [
    {
     "name": "stdout",
     "output_type": "stream",
     "text": [
      "False\n"
     ]
    }
   ],
   "source": [
    "check('{(({(}))}')"
   ]
  },
  {
   "cell_type": "code",
   "execution_count": 69,
   "metadata": {},
   "outputs": [
    {
     "name": "stdout",
     "output_type": "stream",
     "text": [
      "[2, 3, 1]\n"
     ]
    }
   ],
   "source": [
    "stack = [2,3]\n",
    "stack.append(1)\n",
    "\n",
    "print(stack)\n",
    "    "
   ]
  },
  {
   "cell_type": "code",
   "execution_count": null,
   "metadata": {},
   "outputs": [],
   "source": []
  }
 ],
 "metadata": {
  "kernelspec": {
   "display_name": "Python 3",
   "language": "python",
   "name": "python3"
  },
  "language_info": {
   "codemirror_mode": {
    "name": "ipython",
    "version": 3
   },
   "file_extension": ".py",
   "mimetype": "text/x-python",
   "name": "python",
   "nbconvert_exporter": "python",
   "pygments_lexer": "ipython3",
   "version": "3.6.5"
  }
 },
 "nbformat": 4,
 "nbformat_minor": 2
}
