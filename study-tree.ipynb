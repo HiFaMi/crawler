{
 "cells": [
  {
   "cell_type": "code",
   "execution_count": 2,
   "metadata": {},
   "outputs": [],
   "source": [
    "class Node:\n",
    "    def __init__(self, item, left=None, right=None):\n",
    "        self.item = item\n",
    "        self.left = left\n",
    "        self.right = right\n",
    "        \n",
    "class BinaryTree:\n",
    "    def __init__(self):\n",
    "        self.root = None\n",
    "        \n",
    "    def preorder(self, n):\n",
    "        if n != None:\n",
    "            print(str(n.item), ' ', end='')\n",
    "            if n.left:\n",
    "                self.preorder(n.left)\n",
    "            if n.right:\n",
    "                self.preorder(n.right)\n",
    "            \n",
    "    def inorder(self, n):\n",
    "        \n",
    "        if n != None:\n",
    "            if n.left:\n",
    "                self.inorder(n.left)\n",
    "            print(str(n.item), ' ', end='')\n",
    "            if n.right:\n",
    "                self.inorder(n.right)\n",
    "                \n",
    "    def postorder(self, n):\n",
    "        if n != None:\n",
    "            if n.left:\n",
    "                self.postorder(n.left)\n",
    "            if n.right:\n",
    "                self.postorder(n.right)\n",
    "            print(str(n.item), ' ', end='')\n",
    "            \n",
    "    def levelorder(self, root):\n",
    "        q=[]\n",
    "        q.append(root)\n",
    "        while len(q) != 0:\n",
    "            t = q.pop(0)\n",
    "            print(str(t.item), ' ', end='')\n",
    "            if t.left != None:\n",
    "                q.append(t.left)\n",
    "                \n",
    "            if t.right != None:\n",
    "                q.append(t.right)\n",
    "\n",
    "    def height(self, root):\n",
    "        if root == None:\n",
    "            return 0\n",
    "        return max(self.height(root.left), self.height(root.right))+1\n",
    "                "
   ]
  },
  {
   "cell_type": "code",
   "execution_count": 4,
   "metadata": {},
   "outputs": [
    {
     "name": "stdout",
     "output_type": "stream",
     "text": [
      "트리높이 = 4\n",
      "전위순회:\t100  200  400  800  500  300  600  700  \n",
      "중위순회:\t800  400  200  500  100  600  300  700  \n",
      "후위순회:\t800  400  500  200  600  700  300  100  \n",
      "레벨순회:\t100  200  300  400  500  600  700  800  "
     ]
    }
   ],
   "source": [
    "\n",
    "\n",
    "t = BinaryTree()\n",
    "n1 = Node(100)\n",
    "n2 = Node(200)\n",
    "n3 = Node(300)\n",
    "n4 = Node(400)\n",
    "n5 = Node(500)\n",
    "n6 = Node(600)\n",
    "n7 = Node(700)\n",
    "n8 = Node(800)\n",
    "\n",
    "n1.left = n2\n",
    "n1.right = n3\n",
    "n2.left = n4\n",
    "n2.right = n5\n",
    "n3.left = n6\n",
    "n3.right = n7\n",
    "n4.left = n8\n",
    "\n",
    "t.root = n1\n",
    "\n",
    "print('트리높이 =', t.height(t.root))\n",
    "print('전위순회:\\t', end='')\n",
    "t.preorder(t.root)\n",
    "print('\\n중위순회:\\t', end='')\n",
    "t.inorder(t.root)\n",
    "print('\\n후위순회:\\t', end='')\n",
    "t.postorder(t.root)\n",
    "print('\\n레벨순회:\\t', end='')\n",
    "t.levelorder(t.root)\n",
    "\n"
   ]
  }
 ],
 "metadata": {
  "kernelspec": {
   "display_name": "Python 3",
   "language": "python",
   "name": "python3"
  },
  "language_info": {
   "codemirror_mode": {
    "name": "ipython",
    "version": 3
   },
   "file_extension": ".py",
   "mimetype": "text/x-python",
   "name": "python",
   "nbconvert_exporter": "python",
   "pygments_lexer": "ipython3",
   "version": "3.6.5"
  }
 },
 "nbformat": 4,
 "nbformat_minor": 2
}
