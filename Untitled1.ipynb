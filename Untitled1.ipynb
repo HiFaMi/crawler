{
 "cells": [
  {
   "cell_type": "code",
   "execution_count": 65,
   "metadata": {},
   "outputs": [],
   "source": [
    "import os\n",
    "import requests\n",
    "from bs4 import BeautifulSoup\n",
    "        \n",
    "# payload = {'titleId': 651673 }\n",
    "# #if not os.path.exists('data/espisode_list.html'):\n",
    "    \n",
    "# toon_url = requests.get('http://comic.naver.com/webtoon/list.nhn', params=payload)\n",
    "# print(toon_url.url)\n",
    "# with open('data/{}.html'.format(657613), 'wt') as f:\n",
    "#     f.write(toon_url.text)\n",
    "                \n",
    "# with open('data/espisode_list.html', 'rt') as f:\n",
    "#     html = f.read()\n",
    "            \n",
    "# soup = BeautifulSoup(html , 'lxml')\n",
    "\n",
    "# title_list = soup.select('div.detail > h2')\n",
    "# print(title_list[0].contents[0].strip())\n",
    "# auth_list = soup.select('span.\"wrt_nm\"')\n",
    "# print(auth_list[0].string.strip())\n",
    "\n",
    "# des = soup.p.string\n",
    "# print(des)\n"
   ]
  }
 ],
 "metadata": {
  "kernelspec": {
   "display_name": "Python 3",
   "language": "python",
   "name": "python3"
  },
  "language_info": {
   "codemirror_mode": {
    "name": "ipython",
    "version": 3
   },
   "file_extension": ".py",
   "mimetype": "text/x-python",
   "name": "python",
   "nbconvert_exporter": "python",
   "pygments_lexer": "ipython3",
   "version": "3.6.5"
  }
 },
 "nbformat": 4,
 "nbformat_minor": 2
}
