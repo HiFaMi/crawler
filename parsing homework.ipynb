{
 "cells": [
  {
   "cell_type": "code",
   "execution_count": 22,
   "metadata": {},
   "outputs": [],
   "source": [
    "import os\n",
    "import requests\n",
    "from bs4 import BeautifulSoup\n",
    "import re\n",
    "    "
   ]
  },
  {
   "cell_type": "code",
   "execution_count": 23,
   "metadata": {},
   "outputs": [],
   "source": [
    "class Episode:\n",
    "\n",
    "    def __init__(self, webtoon_id, no, url_thumbnail, title, rating, created_date):\n",
    "        self.webtoon_id = webtoon_id\n",
    "        self.no = no\n",
    "        self.url_thumbnail = url_thumbnail\n",
    "        self.title = title\n",
    "        self.rating = rating\n",
    "        self.created_date = created_date\n",
    "        self.image_list = []\n",
    "\n",
    "    @property\n",
    "    def info(self):\n",
    "        from urllib.parse import urlencode\n",
    "        \n",
    "        payload = {'titleId': self.webtoon_id , 'no': self.no}\n",
    "        url = 'http://comic.naver.com/webtoon/detail.nhn?'\n",
    "        \n",
    "        result = url+urlencode(payload)\n",
    "        return result\n"
   ]
  },
  {
   "cell_type": "code",
   "execution_count": 24,
   "metadata": {},
   "outputs": [],
   "source": [
    "class Webtoon:\n",
    "    \n",
    "    def __init__(self, webtoon_id):\n",
    "        \n",
    "        self.webtoon_id = webtoon_id\n",
    "        self.title = None\n",
    "        self.author = None\n",
    "        self.description = None\n",
    "        self.episode_list = []\n",
    "        \n",
    "    def rework(self):\n",
    "        \n",
    "        \n",
    "        payload = {'titleId': self.webtoon_id}\n",
    "        if not os.path.exists('data/{}.html'.format(self.webtoon_id)):\n",
    "    \n",
    "            toon_url = requests.get('http://comic.naver.com/webtoon/list.nhn', params=payload)\n",
    "            with open('data/{}.html'.format(self.webtoon_id), 'wt') as f:\n",
    "                f.write(toon_url.text)\n",
    "                \n",
    "        with open('data/{}.html'.format(self.webtoon_id), 'rt') as f:\n",
    "            html = f.read()\n",
    "            \n",
    "            \n",
    "        soup = BeautifulSoup(html, 'lxml')\n",
    "        title_list = soup.select('div.detail > h2')\n",
    "        self.title = title_list[0].contents[0].strip()\n",
    "        \n",
    "        auth_list = soup.select('span.\"wrt_nm\"')\n",
    "        self.author = auth_list[0].string.strip()\n",
    "        \n",
    "        self.description = soup.p.string\n",
    "        \n",
    "        \n",
    "    def update(self):\n",
    "        payload = {'titleId': self.webtoon_id}\n",
    "        if not os.path.exists('data/{}.html'.format(self.webtoon_id)):\n",
    "    \n",
    "            toon_url = requests.get('http://comic.naver.com/webtoon/list.nhn', params=payload)\n",
    "            with open('data/{}.html'.format(self.webtoon_id), 'wt') as f:\n",
    "                f.write(toon_url.text)\n",
    "                \n",
    "        with open('data/{}.html'.format(self.webtoon_id), 'rt') as f:\n",
    "            html = f.read()\n",
    "        soup = BeautifulSoup(html, 'lxml')\n",
    "        # image_url\n",
    "        list_src = soup.select(\"a > img['src']\")\n",
    "\n",
    "        # 각 화의 제목\n",
    "        list_of_title = soup.select('td.title > a')\n",
    "\n",
    "        # 별점 리스트\n",
    "        rating_list = soup.select('div.rating_type > strong')\n",
    "\n",
    "        # 등록일\n",
    "        date_list = soup.select('td.num')\n",
    "\n",
    "        # no요소를 빈 리스트 안에 넣은 후 반환\n",
    "        # 값이 두번씩 반환되기에 step을 두번씩 주어서 반환\n",
    "        finall_list = []\n",
    "        no_list = soup.select('td.title > a[href]')\n",
    "        for i in range(0, len(no_list)):\n",
    "            a = no_list[i].get('href')\n",
    "            finall_list.append(re.findall(r'no=(.*?)&', a)[0])\n",
    "\n",
    "\n",
    "\n",
    "        for i in range(len(list_of_title)):\n",
    "            inst = Episode(self.webtoon_id, finall_list[i], list_src[i+1].get('src'), list_of_title[i].string, rating_list[i].string,date_list[i].string)\n",
    "            self.episode_list.append(inst)\n",
    "            \n",
    "\n",
    "    @classmethod\n",
    "    def search_webtoon(cls, webtoon_name):\n",
    "        \n",
    "        if not os.path.exists('data/all_webtoon.html'):\n",
    "            all_webtoon_url = requests.get('http://comic.naver.com/webtoon/weekday.nhn')\n",
    "            with open('data/all_webtoon.html','wt') as f:\n",
    "                f.write(all_webtoon_url.text)\n",
    "                \n",
    "        with open('data/all_webtoon.html','rt') as f:\n",
    "            html = f.read()\n",
    "                \n",
    "        soup = BeautifulSoup(html, 'lxml')\n",
    "        \n",
    "        all_webtoon_list = soup.select('div.col_inner > ul > li > a')\n",
    "        all_dict_webtoon_list = []\n",
    "        for i in range(len(all_webtoon_list)):\n",
    "            href = all_webtoon_list[i]['href']\n",
    "            titleId = re.findall('titleId=(.*?)&.*?',href)\n",
    "            (all_dict_webtoon_list).append({'Title' :all_webtoon_list[i].string, 'titleId' : titleId[0]})\n",
    "        \n",
    "        search_list = []\n",
    "        for i in range(len(all_dict_webtoon_list)):\n",
    "            if webtoon_name in all_dict_webtoon_list[i]['Title']:\n",
    "                search_list.append(all_dict_webtoon_list[i]['Title'])\n",
    "        search_list = list(set(search_list))\n",
    "        \n",
    "        while True:\n",
    "            for index, title in enumerate(search_list):\n",
    "                print('{}. {}'.format(index+1, title))\n",
    "                \n",
    "            user_input = input('선택: ')\n",
    "            webtoon = search_list[int(user_input)-1]\n",
    "            break\n",
    "        \n",
    "        for i in range(len(all_dict_webtoon_list)):\n",
    "            if webtoon == all_dict_webtoon_list[i]['Title']:\n",
    "                return cls((all_dict_webtoon_list[i]['titleId']))"
   ]
  },
  {
   "cell_type": "code",
   "execution_count": 25,
   "metadata": {},
   "outputs": [],
   "source": [
    "class EpisodeImage:\n",
    "    def __init__(self, episode, url):\n",
    "        self.episode = episode \n",
    "        self.url = url\n",
    "        self.image_url_list = []\n",
    "    \n",
    "    def image_crawler(self, episode_user):\n",
    "\n",
    "        if not os.path.exists('data/{}.html'.format(episode_user)):\n",
    "            toon_url = requests.get(self.url)\n",
    "            with open('data/{}.html'.format(episode_user), 'wt') as f:\n",
    "                f.write(toon_url.text)\n",
    "\n",
    "        with open('data/{}.html'.format(episode_user), 'rt') as f:\n",
    "            html = f.read()\n",
    "\n",
    "        soup = BeautifulSoup(html, 'lxml')\n",
    "        list_src = soup.select('div.wt_viewer > img')\n",
    "\n",
    "        user = EpisodeImage(self.episode, self.url)\n",
    "\n",
    "        for i in range(len(list_src)):\n",
    "            user.image_url_list.append(list_src[i]['src'])\n",
    "\n",
    "        episode_user.image_list.append(user)\n",
    "        \n",
    "        "
   ]
  },
  {
   "cell_type": "code",
   "execution_count": null,
   "metadata": {},
   "outputs": [],
   "source": []
  },
  {
   "cell_type": "code",
   "execution_count": 26,
   "metadata": {},
   "outputs": [],
   "source": [
    "yumi = Webtoon(651673)"
   ]
  },
  {
   "cell_type": "code",
   "execution_count": 27,
   "metadata": {},
   "outputs": [
    {
     "data": {
      "text/plain": [
       "651673"
      ]
     },
     "execution_count": 27,
     "metadata": {},
     "output_type": "execute_result"
    }
   ],
   "source": [
    "yumi.webtoon_id"
   ]
  },
  {
   "cell_type": "code",
   "execution_count": 28,
   "metadata": {},
   "outputs": [],
   "source": [
    "yumi.rework()"
   ]
  },
  {
   "cell_type": "code",
   "execution_count": 29,
   "metadata": {},
   "outputs": [
    {
     "data": {
      "text/plain": [
       "'유미의 세포들'"
      ]
     },
     "execution_count": 29,
     "metadata": {},
     "output_type": "execute_result"
    }
   ],
   "source": [
    "yumi.title"
   ]
  },
  {
   "cell_type": "code",
   "execution_count": 30,
   "metadata": {},
   "outputs": [
    {
     "data": {
      "text/plain": [
       "'이동건'"
      ]
     },
     "execution_count": 30,
     "metadata": {},
     "output_type": "execute_result"
    }
   ],
   "source": [
    "yumi.author"
   ]
  },
  {
   "cell_type": "code",
   "execution_count": 31,
   "metadata": {},
   "outputs": [],
   "source": [
    "yumi.update()"
   ]
  },
  {
   "cell_type": "code",
   "execution_count": 32,
   "metadata": {},
   "outputs": [
    {
     "name": "stdout",
     "output_type": "stream",
     "text": [
      "[<__main__.Episode object at 0x10fe48be0>, <__main__.Episode object at 0x10fe48c18>, <__main__.Episode object at 0x10fe48c50>, <__main__.Episode object at 0x10fe48c88>, <__main__.Episode object at 0x10fe48cc0>, <__main__.Episode object at 0x10fe48cf8>, <__main__.Episode object at 0x10fe48d30>, <__main__.Episode object at 0x10fe48d68>, <__main__.Episode object at 0x10fe48da0>, <__main__.Episode object at 0x10fe48dd8>]\n"
     ]
    }
   ],
   "source": [
    "print(yumi.episode_list)"
   ]
  },
  {
   "cell_type": "code",
   "execution_count": 33,
   "metadata": {},
   "outputs": [
    {
     "name": "stdout",
     "output_type": "stream",
     "text": [
      "http://comic.naver.com/webtoon/detail.nhn?titleId=651673&no=310\n",
      "http://comic.naver.com/webtoon/detail.nhn?titleId=651673&no=309\n",
      "http://comic.naver.com/webtoon/detail.nhn?titleId=651673&no=308\n",
      "http://comic.naver.com/webtoon/detail.nhn?titleId=651673&no=307\n",
      "http://comic.naver.com/webtoon/detail.nhn?titleId=651673&no=306\n",
      "http://comic.naver.com/webtoon/detail.nhn?titleId=651673&no=305\n",
      "http://comic.naver.com/webtoon/detail.nhn?titleId=651673&no=304\n",
      "http://comic.naver.com/webtoon/detail.nhn?titleId=651673&no=303\n",
      "http://comic.naver.com/webtoon/detail.nhn?titleId=651673&no=302\n",
      "http://comic.naver.com/webtoon/detail.nhn?titleId=651673&no=301\n"
     ]
    }
   ],
   "source": [
    "for episode in yumi.episode_list:\n",
    "    print(episode.info)\n",
    "    koko = EpisodeImage('yumi',episode.info)\n",
    "    koko.image_crawler(episode)\n",
    "    "
   ]
  },
  {
   "cell_type": "code",
   "execution_count": 34,
   "metadata": {},
   "outputs": [
    {
     "name": "stdout",
     "output_type": "stream",
     "text": [
      "[<__main__.EpisodeImage object at 0x1101a9d68>]\n",
      "[<__main__.EpisodeImage object at 0x1104585f8>]\n",
      "[<__main__.EpisodeImage object at 0x10dae8588>]\n",
      "[<__main__.EpisodeImage object at 0x110510a58>]\n",
      "[<__main__.EpisodeImage object at 0x10fd42a58>]\n",
      "[<__main__.EpisodeImage object at 0x11060acf8>]\n",
      "[<__main__.EpisodeImage object at 0x110544f28>]\n",
      "[<__main__.EpisodeImage object at 0x1105ea588>]\n",
      "[<__main__.EpisodeImage object at 0x11078f828>]\n",
      "[<__main__.EpisodeImage object at 0x10d1d5a58>]\n"
     ]
    }
   ],
   "source": [
    "for i in range(len(yumi.episode_list)):\n",
    "    print(yumi.episode_list[i].image_list)"
   ]
  },
  {
   "cell_type": "code",
   "execution_count": 35,
   "metadata": {},
   "outputs": [
    {
     "data": {
      "text/plain": [
       "<__main__.EpisodeImage at 0x1101a9d68>"
      ]
     },
     "execution_count": 35,
     "metadata": {},
     "output_type": "execute_result"
    }
   ],
   "source": [
    "yumi.episode_list[0].image_list[0]"
   ]
  },
  {
   "cell_type": "code",
   "execution_count": 36,
   "metadata": {},
   "outputs": [
    {
     "data": {
      "text/plain": [
       "['http://imgcomic.naver.net/webtoon/651673/310/20180529183300_9e5b6418e84912e27232e998ae93797e_IMAG01_1.jpg',\n",
       " 'http://imgcomic.naver.net/webtoon/651673/310/20180529183300_9e5b6418e84912e27232e998ae93797e_IMAG01_2.jpg',\n",
       " 'http://imgcomic.naver.net/webtoon/651673/310/20180529183300_9e5b6418e84912e27232e998ae93797e_IMAG01_3.jpg',\n",
       " 'http://imgcomic.naver.net/webtoon/651673/310/20180529183300_9e5b6418e84912e27232e998ae93797e_IMAG01_4.jpg',\n",
       " 'http://imgcomic.naver.net/webtoon/651673/310/20180529183300_9e5b6418e84912e27232e998ae93797e_IMAG01_5.jpg',\n",
       " 'http://imgcomic.naver.net/webtoon/651673/310/20180529183300_9e5b6418e84912e27232e998ae93797e_IMAG01_6.jpg',\n",
       " 'http://imgcomic.naver.net/webtoon/651673/310/20180529183300_9e5b6418e84912e27232e998ae93797e_IMAG01_7.jpg',\n",
       " 'http://imgcomic.naver.net/webtoon/651673/310/20180529183300_9e5b6418e84912e27232e998ae93797e_IMAG01_8.jpg',\n",
       " 'http://imgcomic.naver.net/webtoon/651673/310/20180529183300_9e5b6418e84912e27232e998ae93797e_IMAG01_9.jpg',\n",
       " 'http://imgcomic.naver.net/webtoon/651673/310/20180529183300_9e5b6418e84912e27232e998ae93797e_IMAG01_10.jpg',\n",
       " 'http://imgcomic.naver.net/webtoon/651673/310/20180529183300_9e5b6418e84912e27232e998ae93797e_IMAG01_11.jpg',\n",
       " 'http://imgcomic.naver.net/webtoon/651673/310/20180529183300_9e5b6418e84912e27232e998ae93797e_IMAG01_12.jpg',\n",
       " 'http://imgcomic.naver.net/webtoon/651673/310/20180529183300_9e5b6418e84912e27232e998ae93797e_IMAG01_13.jpg',\n",
       " 'http://imgcomic.naver.net/webtoon/651673/310/20180529183300_9e5b6418e84912e27232e998ae93797e_IMAG01_14.jpg']"
      ]
     },
     "execution_count": 36,
     "metadata": {},
     "output_type": "execute_result"
    }
   ],
   "source": [
    "yumi.episode_list[0].image_list[0].image_url_list"
   ]
  },
  {
   "cell_type": "code",
   "execution_count": 37,
   "metadata": {},
   "outputs": [
    {
     "name": "stdout",
     "output_type": "stream",
     "text": [
      "1. 신의 탑\n",
      "선택: 1\n"
     ]
    }
   ],
   "source": [
    "webtoon = Webtoon.search_webtoon('탑')"
   ]
  },
  {
   "cell_type": "code",
   "execution_count": 38,
   "metadata": {},
   "outputs": [
    {
     "name": "stdout",
     "output_type": "stream",
     "text": [
      "<__main__.Webtoon object at 0x11015b518>\n"
     ]
    }
   ],
   "source": [
    "print(webtoon)"
   ]
  },
  {
   "cell_type": "code",
   "execution_count": 39,
   "metadata": {},
   "outputs": [
    {
     "data": {
      "text/plain": [
       "'183559'"
      ]
     },
     "execution_count": 39,
     "metadata": {},
     "output_type": "execute_result"
    }
   ],
   "source": [
    "webtoon.webtoon_id"
   ]
  },
  {
   "cell_type": "code",
   "execution_count": 40,
   "metadata": {},
   "outputs": [],
   "source": [
    "webtoon.rework()"
   ]
  },
  {
   "cell_type": "code",
   "execution_count": 41,
   "metadata": {},
   "outputs": [
    {
     "data": {
      "text/plain": [
       "'신의 탑'"
      ]
     },
     "execution_count": 41,
     "metadata": {},
     "output_type": "execute_result"
    }
   ],
   "source": [
    "webtoon.title"
   ]
  },
  {
   "cell_type": "code",
   "execution_count": 42,
   "metadata": {},
   "outputs": [
    {
     "data": {
      "text/plain": [
       "'SIU'"
      ]
     },
     "execution_count": 42,
     "metadata": {},
     "output_type": "execute_result"
    }
   ],
   "source": [
    "webtoon.author"
   ]
  }
 ],
 "metadata": {
  "kernelspec": {
   "display_name": "Python 3",
   "language": "python",
   "name": "python3"
  },
  "language_info": {
   "codemirror_mode": {
    "name": "ipython",
    "version": 3
   },
   "file_extension": ".py",
   "mimetype": "text/x-python",
   "name": "python",
   "nbconvert_exporter": "python",
   "pygments_lexer": "ipython3",
   "version": "3.6.5"
  }
 },
 "nbformat": 4,
 "nbformat_minor": 2
}
