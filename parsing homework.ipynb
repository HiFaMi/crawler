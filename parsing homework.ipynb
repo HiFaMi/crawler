{
 "cells": [
  {
   "cell_type": "code",
   "execution_count": 1,
   "metadata": {},
   "outputs": [],
   "source": [
    "import os\n",
    "import requests\n",
    "from bs4 import BeautifulSoup\n",
    "import re\n",
    "    "
   ]
  },
  {
   "cell_type": "code",
   "execution_count": 2,
   "metadata": {},
   "outputs": [],
   "source": [
    "class Episode:\n",
    "\n",
    "    def __init__(self, webtoon_id, no, url_thumbnail, title, rating, created_date):\n",
    "        self.webtoon_id = webtoon_id\n",
    "        self.no = no\n",
    "        self.url_thumbnail = url_thumbnail\n",
    "        self.title = title\n",
    "        self.rating = rating\n",
    "        self.created_date = created_date\n",
    "\n",
    "    @property\n",
    "    def info(self):\n",
    "        from urllib.parse import urlencode\n",
    "        \n",
    "        payload = {'titleId': self.webtoon_id , 'no': self.no}\n",
    "        url = 'http://comic.naver.com/webtoon/list.nhn?'\n",
    "        \n",
    "        result = url+urlencode(payload)\n",
    "        return result\n"
   ]
  },
  {
   "cell_type": "code",
   "execution_count": 3,
   "metadata": {},
   "outputs": [],
   "source": [
    "class Webtoon:\n",
    "    \n",
    "    def __init__(self, webtoon_id):\n",
    "        \n",
    "        self.webtoon_id = webtoon_id\n",
    "        self.title = None\n",
    "        self.author = None\n",
    "        self.description = None\n",
    "        self.episode_list = []\n",
    "        \n",
    "    def rework(self):\n",
    "        \n",
    "        \n",
    "        payload = {'titleId': self.webtoon_id}\n",
    "        if not os.path.exists('data/{}.html'.format(self.webtoon_id)):\n",
    "    \n",
    "            toon_url = requests.get('http://comic.naver.com/webtoon/list.nhn', params=payload)\n",
    "            with open('data/{}.html'.format(self.webtoon_id), 'wt') as f:\n",
    "                f.write(toon_url.text)\n",
    "                \n",
    "        with open('data/espisode_list.html', 'rt') as f:\n",
    "            html = f.read()\n",
    "            \n",
    "            \n",
    "        soup = BeautifulSoup(html, 'lxml')\n",
    "        title_list = soup.select('div.detail > h2')\n",
    "        self.title = title_list[0].contents[0].strip()\n",
    "        \n",
    "        auth_list = soup.select('span.\"wrt_nm\"')\n",
    "        self.author = auth_list[0].string.strip()\n",
    "        \n",
    "        self.description = soup.p.string\n",
    "        \n",
    "        \n",
    "    def update(self):\n",
    "        payload = {'titleId': self.webtoon_id}\n",
    "        if not os.path.exists('data/{}.html'.format(self.webtoon_id)):\n",
    "    \n",
    "            toon_url = requests.get('http://comic.naver.com/webtoon/list.nhn', params=payload)\n",
    "            with open('data/{}.html'.format(self.webtoon_id), 'wt') as f:\n",
    "                f.write(toon_url.text)\n",
    "                \n",
    "        with open('data/{}.html'.format(self.webtoon_id), 'rt') as f:\n",
    "            html = f.read()\n",
    "        soup = BeautifulSoup(html, 'lxml')\n",
    "        # image_url\n",
    "        list_src = soup.select(\"a > img['src']\")\n",
    "\n",
    "        # 각 화의 제목\n",
    "        list_of_title = soup.select('td.title > a')\n",
    "\n",
    "        # 별점 리스트\n",
    "        rating_list = soup.select('div.rating_type > strong')\n",
    "\n",
    "        # 등록일\n",
    "        date_list = soup.select('td.num')\n",
    "\n",
    "        # no요소를 빈 리스트 안에 넣은 후 반환\n",
    "        # 값이 두번씩 반환되기에 step을 두번씩 주어서 반환\n",
    "        finall_list = []\n",
    "        no_list = soup.select('td > a[href]')\n",
    "        for i in range(1, len(no_list), 2):\n",
    "            a = no_list[i].get('href')\n",
    "            finall_list.append(re.findall(r'no=(.*?)&', a)[0])\n",
    "\n",
    "\n",
    "\n",
    "        for i in range(len(list_of_title)):\n",
    "            inst = Episode(self.webtoon_id, finall_list[i], list_src[i+1].get('src'), list_of_title[i].string, rating_list[i].string,date_list[i].string)\n",
    "            self.episode_list.append(inst)\n",
    "            \n",
    "\n",
    "\n",
    "        \n",
    "        \n",
    "        "
   ]
  },
  {
   "cell_type": "code",
   "execution_count": 4,
   "metadata": {},
   "outputs": [],
   "source": [
    "yumi = Webtoon(651673)"
   ]
  },
  {
   "cell_type": "code",
   "execution_count": 5,
   "metadata": {},
   "outputs": [
    {
     "data": {
      "text/plain": [
       "651673"
      ]
     },
     "execution_count": 5,
     "metadata": {},
     "output_type": "execute_result"
    }
   ],
   "source": [
    "yumi.webtoon_id"
   ]
  },
  {
   "cell_type": "code",
   "execution_count": 6,
   "metadata": {},
   "outputs": [],
   "source": [
    "yumi.rework()"
   ]
  },
  {
   "cell_type": "code",
   "execution_count": 7,
   "metadata": {},
   "outputs": [
    {
     "data": {
      "text/plain": [
       "'유미의 세포들'"
      ]
     },
     "execution_count": 7,
     "metadata": {},
     "output_type": "execute_result"
    }
   ],
   "source": [
    "yumi.title"
   ]
  },
  {
   "cell_type": "code",
   "execution_count": 8,
   "metadata": {},
   "outputs": [
    {
     "data": {
      "text/plain": [
       "'이동건'"
      ]
     },
     "execution_count": 8,
     "metadata": {},
     "output_type": "execute_result"
    }
   ],
   "source": [
    "yumi.author"
   ]
  },
  {
   "cell_type": "code",
   "execution_count": 9,
   "metadata": {},
   "outputs": [],
   "source": [
    "yumi.update()"
   ]
  },
  {
   "cell_type": "code",
   "execution_count": 10,
   "metadata": {},
   "outputs": [
    {
     "name": "stdout",
     "output_type": "stream",
     "text": [
      "[<__main__.Episode object at 0x1092987b8>, <__main__.Episode object at 0x1092987f0>, <__main__.Episode object at 0x109298828>, <__main__.Episode object at 0x109298860>, <__main__.Episode object at 0x109298898>, <__main__.Episode object at 0x1092988d0>, <__main__.Episode object at 0x109298908>, <__main__.Episode object at 0x109298940>, <__main__.Episode object at 0x109298978>, <__main__.Episode object at 0x1092989b0>]\n"
     ]
    }
   ],
   "source": [
    "print(yumi.episode_list)"
   ]
  },
  {
   "cell_type": "code",
   "execution_count": 11,
   "metadata": {},
   "outputs": [
    {
     "name": "stdout",
     "output_type": "stream",
     "text": [
      "http://comic.naver.com/webtoon/list.nhn?titleId=651673&no=309\n",
      "http://comic.naver.com/webtoon/list.nhn?titleId=651673&no=308\n",
      "http://comic.naver.com/webtoon/list.nhn?titleId=651673&no=307\n",
      "http://comic.naver.com/webtoon/list.nhn?titleId=651673&no=306\n",
      "http://comic.naver.com/webtoon/list.nhn?titleId=651673&no=305\n",
      "http://comic.naver.com/webtoon/list.nhn?titleId=651673&no=304\n",
      "http://comic.naver.com/webtoon/list.nhn?titleId=651673&no=303\n",
      "http://comic.naver.com/webtoon/list.nhn?titleId=651673&no=302\n",
      "http://comic.naver.com/webtoon/list.nhn?titleId=651673&no=301\n",
      "http://comic.naver.com/webtoon/list.nhn?titleId=651673&no=300\n"
     ]
    }
   ],
   "source": [
    "for episode in yumi.episode_list:\n",
    "    print(episode.info)"
   ]
  }
 ],
 "metadata": {
  "kernelspec": {
   "display_name": "Python 3",
   "language": "python",
   "name": "python3"
  },
  "language_info": {
   "codemirror_mode": {
    "name": "ipython",
    "version": 3
   },
   "file_extension": ".py",
   "mimetype": "text/x-python",
   "name": "python",
   "nbconvert_exporter": "python",
   "pygments_lexer": "ipython3",
   "version": "3.6.5"
  }
 },
 "nbformat": 4,
 "nbformat_minor": 2
}
