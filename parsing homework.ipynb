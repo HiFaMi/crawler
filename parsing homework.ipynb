{
 "cells": [
  {
   "cell_type": "code",
   "execution_count": 1,
   "metadata": {},
   "outputs": [],
   "source": [
    "import os\n",
    "import requests\n",
    "from bs4 import BeautifulSoup\n",
    "import re\n",
    "    "
   ]
  },
  {
   "cell_type": "code",
   "execution_count": 2,
   "metadata": {},
   "outputs": [],
   "source": [
    "class Episode:\n",
    "\n",
    "    def __init__(self, webtoon_id, no, url_thumbnail, title, rating, created_date):\n",
    "        self.webtoon_id = webtoon_id\n",
    "        self.no = no\n",
    "        self.url_thumbnail = url_thumbnail\n",
    "        self.title = title\n",
    "        self.rating = rating\n",
    "        self.created_date = created_date\n",
    "        self.image_list = []\n",
    "\n",
    "    @property\n",
    "    def info(self):\n",
    "        from urllib.parse import urlencode\n",
    "        \n",
    "        payload = {'titleId': self.webtoon_id , 'no': self.no}\n",
    "        url = 'http://comic.naver.com/webtoon/detail.nhn?'\n",
    "        \n",
    "        result = url+urlencode(payload)\n",
    "        return result\n"
   ]
  },
  {
   "cell_type": "code",
   "execution_count": 33,
   "metadata": {},
   "outputs": [],
   "source": [
    "class Webtoon:\n",
    "    \n",
    "    def __init__(self, webtoon_id):\n",
    "        \n",
    "        self.webtoon_id = webtoon_id\n",
    "        self.title = None\n",
    "        self.author = None\n",
    "        self.description = None\n",
    "        self.episode_list = []\n",
    "        \n",
    "    def rework(self):\n",
    "        \n",
    "        \n",
    "        payload = {'titleId': self.webtoon_id}\n",
    "        if not os.path.exists('data/{}.html'.format(self.webtoon_id)):\n",
    "    \n",
    "            toon_url = requests.get('http://comic.naver.com/webtoon/list.nhn', params=payload)\n",
    "            with open('data/{}.html'.format(self.webtoon_id), 'wt') as f:\n",
    "                f.write(toon_url.text)\n",
    "                \n",
    "        with open('data/{}.html'.format(self.webtoon_id), 'rt') as f:\n",
    "            html = f.read()\n",
    "            \n",
    "            \n",
    "        soup = BeautifulSoup(html, 'lxml')\n",
    "        title_list = soup.select('div.detail > h2')\n",
    "        self.title = title_list[0].contents[0].strip()\n",
    "        \n",
    "        auth_list = soup.select('span.\"wrt_nm\"')\n",
    "        self.author = auth_list[0].string.strip()\n",
    "        \n",
    "        self.description = soup.p.string\n",
    "        \n",
    "        \n",
    "    def update(self):\n",
    "        payload = {'titleId': self.webtoon_id}\n",
    "        if not os.path.exists('data/{}.html'.format(self.webtoon_id)):\n",
    "    \n",
    "            toon_url = requests.get('http://comic.naver.com/webtoon/list.nhn', params=payload)\n",
    "            with open('data/{}.html'.format(self.webtoon_id), 'wt') as f:\n",
    "                f.write(toon_url.text)\n",
    "                \n",
    "        with open('data/{}.html'.format(self.webtoon_id), 'rt') as f:\n",
    "            html = f.read()\n",
    "        soup = BeautifulSoup(html, 'lxml')\n",
    "        # image_url\n",
    "        list_src = soup.select(\"a > img['src']\")\n",
    "\n",
    "        # 각 화의 제목\n",
    "        list_of_title = soup.select('td.title > a')\n",
    "\n",
    "        # 별점 리스트\n",
    "        rating_list = soup.select('div.rating_type > strong')\n",
    "\n",
    "        # 등록일\n",
    "        date_list = soup.select('td.num')\n",
    "\n",
    "        # no요소를 빈 리스트 안에 넣은 후 반환\n",
    "        # 값이 두번씩 반환되기에 step을 두번씩 주어서 반환\n",
    "        finall_list = []\n",
    "        no_list = soup.select('td.title > a[href]')\n",
    "        for i in range(0, len(no_list)):\n",
    "            a = no_list[i].get('href')\n",
    "            finall_list.append(re.findall(r'no=(.*?)&', a)[0])\n",
    "\n",
    "\n",
    "\n",
    "        for i in range(len(list_of_title)):\n",
    "            inst = Episode(self.webtoon_id, finall_list[i], list_src[i+1].get('src'), list_of_title[i].string, rating_list[i].string,date_list[i].string)\n",
    "            self.episode_list.append(inst)\n",
    "            \n",
    "\n",
    "    @classmethod\n",
    "    def search_webtoon(cls, webtoon_name):\n",
    "        \n",
    "        if not os.path.exists('data/all_webtoon.html'):\n",
    "            all_webtoon_url = requests.get('http://comic.naver.com/webtoon/weekday.nhn')\n",
    "            with open('data/all_webtoon.html','wt') as f:\n",
    "                f.write(all_webtoon_url.text)\n",
    "                \n",
    "        with open('data/all_webtoon.html','rt') as f:\n",
    "            html = f.read()\n",
    "                \n",
    "        soup = BeautifulSoup(html, 'lxml')\n",
    "        \n",
    "        all_webtoon_list = soup.select('div.col_inner > ul > li > a')\n",
    "        all_dict_webtoon_list = []\n",
    "        for i in range(len(all_webtoon_list)):\n",
    "            href = all_webtoon_list[i]['href']\n",
    "            titleId = re.findall('titleId=(.*?)&.*?',href)\n",
    "            (all_dict_webtoon_list).append({'Title' :all_webtoon_list[i].string, 'titleId' : titleId[0]})\n",
    "        \n",
    "        search_list = []\n",
    "        for i in range(len(all_dict_webtoon_list)):\n",
    "            if webtoon_name in all_dict_webtoon_list[i]['Title']:\n",
    "                search_list.append(all_dict_webtoon_list[i]['Title'])\n",
    "        search_list = list(set(search_list))\n",
    "        \n",
    "        while True:\n",
    "            for index, title in enumerate(search_list):\n",
    "                print('{}. {}'.format(index+1, title))\n",
    "                \n",
    "            user_input = input('선택: ')\n",
    "            webtoon = search_list[int(user_input)-1]\n",
    "            break\n",
    "        \n",
    "        for i in range(len(all_dict_webtoon_list)):\n",
    "            if webtoon == all_dict_webtoon_list[i]['Title']:\n",
    "                user =cls((all_dict_webtoon_list[i]['titleId'])\n",
    "        \n",
    "        return user"
   ]
  },
  {
   "cell_type": "code",
   "execution_count": 4,
   "metadata": {},
   "outputs": [],
   "source": [
    "class EpisodeImage:\n",
    "    def __init__(self, episode, url):\n",
    "        self.episode = episode \n",
    "        self.url = url\n",
    "        self.image_list = []\n",
    "    \n",
    "    def image_crawler(self,episode_user):\n",
    "\n",
    "        if not os.path.exists('data/{}.html'.format(episode_user)):\n",
    "            \n",
    "            toon_url = requests.get(self.url)\n",
    "            with open('data/{}.html'.format(episode_user),'wt') as f:\n",
    "                f.write(toon_url.text)\n",
    "        \n",
    "        with open('data/{}.html'.format(episode_user),'rt') as f:\n",
    "            html = f.read()\n",
    "            \n",
    "            \n",
    "        soup = BeautifulSoup(html, 'lxml')\n",
    "        list_src = soup.select('div.wt_viewer > img')\n",
    "        \n",
    "        user = EpisodeImage(self.episode, self.url)\n",
    "        \n",
    "        for i in range(len(list_src)):\n",
    "            (user.image_list).append(list_src[i]['src'])\n",
    "        \n",
    "        (episode_user.image_list).append(user)\n",
    "        \n",
    "        "
   ]
  },
  {
   "cell_type": "code",
   "execution_count": null,
   "metadata": {},
   "outputs": [],
   "source": []
  },
  {
   "cell_type": "code",
   "execution_count": 5,
   "metadata": {},
   "outputs": [],
   "source": [
    "yumi = Webtoon(651673)"
   ]
  },
  {
   "cell_type": "code",
   "execution_count": 6,
   "metadata": {},
   "outputs": [
    {
     "data": {
      "text/plain": [
       "651673"
      ]
     },
     "execution_count": 6,
     "metadata": {},
     "output_type": "execute_result"
    }
   ],
   "source": [
    "yumi.webtoon_id"
   ]
  },
  {
   "cell_type": "code",
   "execution_count": 7,
   "metadata": {},
   "outputs": [],
   "source": [
    "yumi.rework()"
   ]
  },
  {
   "cell_type": "code",
   "execution_count": 8,
   "metadata": {},
   "outputs": [
    {
     "data": {
      "text/plain": [
       "'유미의 세포들'"
      ]
     },
     "execution_count": 8,
     "metadata": {},
     "output_type": "execute_result"
    }
   ],
   "source": [
    "yumi.title"
   ]
  },
  {
   "cell_type": "code",
   "execution_count": 9,
   "metadata": {},
   "outputs": [
    {
     "data": {
      "text/plain": [
       "'이동건'"
      ]
     },
     "execution_count": 9,
     "metadata": {},
     "output_type": "execute_result"
    }
   ],
   "source": [
    "yumi.author"
   ]
  },
  {
   "cell_type": "code",
   "execution_count": 10,
   "metadata": {},
   "outputs": [],
   "source": [
    "yumi.update()"
   ]
  },
  {
   "cell_type": "code",
   "execution_count": 11,
   "metadata": {},
   "outputs": [
    {
     "name": "stdout",
     "output_type": "stream",
     "text": [
      "[<__main__.Episode object at 0x10cd28cf8>, <__main__.Episode object at 0x10cd28d30>, <__main__.Episode object at 0x10cd28d68>, <__main__.Episode object at 0x10cd28da0>, <__main__.Episode object at 0x10cd28dd8>, <__main__.Episode object at 0x10cd28e10>, <__main__.Episode object at 0x10cd28e48>, <__main__.Episode object at 0x10cd28e80>, <__main__.Episode object at 0x10cd28eb8>, <__main__.Episode object at 0x10cd28ef0>]\n"
     ]
    }
   ],
   "source": [
    "print(yumi.episode_list)"
   ]
  },
  {
   "cell_type": "code",
   "execution_count": 12,
   "metadata": {},
   "outputs": [
    {
     "name": "stdout",
     "output_type": "stream",
     "text": [
      "http://comic.naver.com/webtoon/detail.nhn?titleId=651673&no=310\n",
      "http://comic.naver.com/webtoon/detail.nhn?titleId=651673&no=309\n",
      "http://comic.naver.com/webtoon/detail.nhn?titleId=651673&no=308\n",
      "http://comic.naver.com/webtoon/detail.nhn?titleId=651673&no=307\n",
      "http://comic.naver.com/webtoon/detail.nhn?titleId=651673&no=306\n",
      "http://comic.naver.com/webtoon/detail.nhn?titleId=651673&no=305\n",
      "http://comic.naver.com/webtoon/detail.nhn?titleId=651673&no=304\n",
      "http://comic.naver.com/webtoon/detail.nhn?titleId=651673&no=303\n",
      "http://comic.naver.com/webtoon/detail.nhn?titleId=651673&no=302\n",
      "http://comic.naver.com/webtoon/detail.nhn?titleId=651673&no=301\n"
     ]
    }
   ],
   "source": [
    "for episode in yumi.episode_list:\n",
    "    print(episode.info)\n",
    "    koko = EpisodeImage('yumi',episode.info)\n",
    "    koko.image_crawler(episode)\n",
    "    "
   ]
  },
  {
   "cell_type": "code",
   "execution_count": 13,
   "metadata": {},
   "outputs": [
    {
     "name": "stdout",
     "output_type": "stream",
     "text": [
      "<__main__.EpisodeImage object at 0x10d6e9860>\n",
      "<__main__.EpisodeImage object at 0x10d822358>\n",
      "<__main__.EpisodeImage object at 0x10d7cf748>\n",
      "<__main__.EpisodeImage object at 0x10d95fe80>\n",
      "<__main__.EpisodeImage object at 0x10d915160>\n",
      "<__main__.EpisodeImage object at 0x10da62240>\n",
      "<__main__.EpisodeImage object at 0x10db5b780>\n",
      "<__main__.EpisodeImage object at 0x10db24dd8>\n",
      "<__main__.EpisodeImage object at 0x10d8229b0>\n",
      "<__main__.EpisodeImage object at 0x10da42128>\n"
     ]
    }
   ],
   "source": [
    "for i in range(len(yumi.episode_list)):\n",
    "    print(yumi.episode_list[i].image_list[0])"
   ]
  },
  {
   "cell_type": "code",
   "execution_count": 14,
   "metadata": {},
   "outputs": [
    {
     "name": "stdout",
     "output_type": "stream",
     "text": [
      "['http://imgcomic.naver.net/webtoon/651673/310/20180529183300_9e5b6418e84912e27232e998ae93797e_IMAG01_1.jpg', 'http://imgcomic.naver.net/webtoon/651673/310/20180529183300_9e5b6418e84912e27232e998ae93797e_IMAG01_2.jpg', 'http://imgcomic.naver.net/webtoon/651673/310/20180529183300_9e5b6418e84912e27232e998ae93797e_IMAG01_3.jpg', 'http://imgcomic.naver.net/webtoon/651673/310/20180529183300_9e5b6418e84912e27232e998ae93797e_IMAG01_4.jpg', 'http://imgcomic.naver.net/webtoon/651673/310/20180529183300_9e5b6418e84912e27232e998ae93797e_IMAG01_5.jpg', 'http://imgcomic.naver.net/webtoon/651673/310/20180529183300_9e5b6418e84912e27232e998ae93797e_IMAG01_6.jpg', 'http://imgcomic.naver.net/webtoon/651673/310/20180529183300_9e5b6418e84912e27232e998ae93797e_IMAG01_7.jpg', 'http://imgcomic.naver.net/webtoon/651673/310/20180529183300_9e5b6418e84912e27232e998ae93797e_IMAG01_8.jpg', 'http://imgcomic.naver.net/webtoon/651673/310/20180529183300_9e5b6418e84912e27232e998ae93797e_IMAG01_9.jpg', 'http://imgcomic.naver.net/webtoon/651673/310/20180529183300_9e5b6418e84912e27232e998ae93797e_IMAG01_10.jpg', 'http://imgcomic.naver.net/webtoon/651673/310/20180529183300_9e5b6418e84912e27232e998ae93797e_IMAG01_11.jpg', 'http://imgcomic.naver.net/webtoon/651673/310/20180529183300_9e5b6418e84912e27232e998ae93797e_IMAG01_12.jpg', 'http://imgcomic.naver.net/webtoon/651673/310/20180529183300_9e5b6418e84912e27232e998ae93797e_IMAG01_13.jpg', 'http://imgcomic.naver.net/webtoon/651673/310/20180529183300_9e5b6418e84912e27232e998ae93797e_IMAG01_14.jpg']\n",
      "['http://imgcomic.naver.net/webtoon/651673/309/20180525171412_991a5b0e01fa1af57fb01e16fe1a30b8_IMAG01_1.jpg', 'http://imgcomic.naver.net/webtoon/651673/309/20180525171412_991a5b0e01fa1af57fb01e16fe1a30b8_IMAG01_2.jpg', 'http://imgcomic.naver.net/webtoon/651673/309/20180525171412_991a5b0e01fa1af57fb01e16fe1a30b8_IMAG01_3.jpg', 'http://imgcomic.naver.net/webtoon/651673/309/20180525171412_991a5b0e01fa1af57fb01e16fe1a30b8_IMAG01_4.jpg', 'http://imgcomic.naver.net/webtoon/651673/309/20180525171412_991a5b0e01fa1af57fb01e16fe1a30b8_IMAG01_5.jpg', 'http://imgcomic.naver.net/webtoon/651673/309/20180525171412_991a5b0e01fa1af57fb01e16fe1a30b8_IMAG01_6.jpg', 'http://imgcomic.naver.net/webtoon/651673/309/20180525171412_991a5b0e01fa1af57fb01e16fe1a30b8_IMAG01_7.jpg', 'http://imgcomic.naver.net/webtoon/651673/309/20180525171412_991a5b0e01fa1af57fb01e16fe1a30b8_IMAG01_8.jpg', 'http://imgcomic.naver.net/webtoon/651673/309/20180525171412_991a5b0e01fa1af57fb01e16fe1a30b8_IMAG01_9.jpg', 'http://imgcomic.naver.net/webtoon/651673/309/20180525171412_991a5b0e01fa1af57fb01e16fe1a30b8_IMAG01_10.jpg', 'http://imgcomic.naver.net/webtoon/651673/309/20180525171412_991a5b0e01fa1af57fb01e16fe1a30b8_IMAG01_11.jpg', 'http://imgcomic.naver.net/webtoon/651673/309/20180525171412_991a5b0e01fa1af57fb01e16fe1a30b8_IMAG01_12.jpg', 'http://imgcomic.naver.net/webtoon/651673/309/20180525171412_991a5b0e01fa1af57fb01e16fe1a30b8_IMAG01_13.jpg', 'http://imgcomic.naver.net/webtoon/651673/309/20180525171412_991a5b0e01fa1af57fb01e16fe1a30b8_IMAG01_14.jpg']\n",
      "['http://imgcomic.naver.net/webtoon/651673/308/20180522175444_ef5335e609de8a926a99d22e02540ac4_IMAG01_1.jpg', 'http://imgcomic.naver.net/webtoon/651673/308/20180522175444_ef5335e609de8a926a99d22e02540ac4_IMAG01_2.jpg', 'http://imgcomic.naver.net/webtoon/651673/308/20180522175444_ef5335e609de8a926a99d22e02540ac4_IMAG01_3.jpg', 'http://imgcomic.naver.net/webtoon/651673/308/20180522175444_ef5335e609de8a926a99d22e02540ac4_IMAG01_4.jpg', 'http://imgcomic.naver.net/webtoon/651673/308/20180522175444_ef5335e609de8a926a99d22e02540ac4_IMAG01_5.jpg', 'http://imgcomic.naver.net/webtoon/651673/308/20180522175444_ef5335e609de8a926a99d22e02540ac4_IMAG01_6.jpg', 'http://imgcomic.naver.net/webtoon/651673/308/20180522175444_ef5335e609de8a926a99d22e02540ac4_IMAG01_7.jpg', 'http://imgcomic.naver.net/webtoon/651673/308/20180522175444_ef5335e609de8a926a99d22e02540ac4_IMAG01_8.jpg', 'http://imgcomic.naver.net/webtoon/651673/308/20180522175444_ef5335e609de8a926a99d22e02540ac4_IMAG01_9.jpg', 'http://imgcomic.naver.net/webtoon/651673/308/20180522175444_ef5335e609de8a926a99d22e02540ac4_IMAG01_10.jpg', 'http://imgcomic.naver.net/webtoon/651673/308/20180522175444_ef5335e609de8a926a99d22e02540ac4_IMAG01_11.jpg', 'http://imgcomic.naver.net/webtoon/651673/308/20180522175444_ef5335e609de8a926a99d22e02540ac4_IMAG01_12.jpg', 'http://imgcomic.naver.net/webtoon/651673/308/20180522175444_ef5335e609de8a926a99d22e02540ac4_IMAG01_13.jpg', 'http://imgcomic.naver.net/webtoon/651673/308/20180522175444_ef5335e609de8a926a99d22e02540ac4_IMAG01_14.jpg']\n",
      "['http://imgcomic.naver.net/webtoon/651673/307/20180518174202_f643e243418c4ba5d414b94c7543e3de_IMAG01_1.jpg', 'http://imgcomic.naver.net/webtoon/651673/307/20180518174202_f643e243418c4ba5d414b94c7543e3de_IMAG01_2.jpg', 'http://imgcomic.naver.net/webtoon/651673/307/20180518174202_f643e243418c4ba5d414b94c7543e3de_IMAG01_3.jpg', 'http://imgcomic.naver.net/webtoon/651673/307/20180518174202_f643e243418c4ba5d414b94c7543e3de_IMAG01_4.jpg', 'http://imgcomic.naver.net/webtoon/651673/307/20180518174202_f643e243418c4ba5d414b94c7543e3de_IMAG01_5.jpg', 'http://imgcomic.naver.net/webtoon/651673/307/20180518174202_f643e243418c4ba5d414b94c7543e3de_IMAG01_6.jpg', 'http://imgcomic.naver.net/webtoon/651673/307/20180518174202_f643e243418c4ba5d414b94c7543e3de_IMAG01_7.jpg', 'http://imgcomic.naver.net/webtoon/651673/307/20180518174202_f643e243418c4ba5d414b94c7543e3de_IMAG01_8.jpg', 'http://imgcomic.naver.net/webtoon/651673/307/20180518174202_f643e243418c4ba5d414b94c7543e3de_IMAG01_9.jpg', 'http://imgcomic.naver.net/webtoon/651673/307/20180518174202_f643e243418c4ba5d414b94c7543e3de_IMAG01_10.jpg', 'http://imgcomic.naver.net/webtoon/651673/307/20180518174202_f643e243418c4ba5d414b94c7543e3de_IMAG01_11.jpg', 'http://imgcomic.naver.net/webtoon/651673/307/20180518174202_f643e243418c4ba5d414b94c7543e3de_IMAG01_12.jpg', 'http://imgcomic.naver.net/webtoon/651673/307/20180518174202_f643e243418c4ba5d414b94c7543e3de_IMAG01_13.jpg', 'http://imgcomic.naver.net/webtoon/651673/307/20180518174202_f643e243418c4ba5d414b94c7543e3de_IMAG01_14.jpg']\n",
      "['http://imgcomic.naver.net/webtoon/651673/306/20180515163247_abac8024f331501459367c79a4015103_IMAG01_1.jpg', 'http://imgcomic.naver.net/webtoon/651673/306/20180515163247_abac8024f331501459367c79a4015103_IMAG01_2.jpg', 'http://imgcomic.naver.net/webtoon/651673/306/20180515163247_abac8024f331501459367c79a4015103_IMAG01_3.jpg', 'http://imgcomic.naver.net/webtoon/651673/306/20180515163247_abac8024f331501459367c79a4015103_IMAG01_4.jpg', 'http://imgcomic.naver.net/webtoon/651673/306/20180515163247_abac8024f331501459367c79a4015103_IMAG01_5.jpg', 'http://imgcomic.naver.net/webtoon/651673/306/20180515163247_abac8024f331501459367c79a4015103_IMAG01_6.jpg', 'http://imgcomic.naver.net/webtoon/651673/306/20180515163247_abac8024f331501459367c79a4015103_IMAG01_7.jpg', 'http://imgcomic.naver.net/webtoon/651673/306/20180515163247_abac8024f331501459367c79a4015103_IMAG01_8.jpg', 'http://imgcomic.naver.net/webtoon/651673/306/20180515163247_abac8024f331501459367c79a4015103_IMAG01_9.jpg', 'http://imgcomic.naver.net/webtoon/651673/306/20180515163247_abac8024f331501459367c79a4015103_IMAG01_10.jpg', 'http://imgcomic.naver.net/webtoon/651673/306/20180515163247_abac8024f331501459367c79a4015103_IMAG01_11.jpg', 'http://imgcomic.naver.net/webtoon/651673/306/20180515163247_abac8024f331501459367c79a4015103_IMAG01_12.jpg', 'http://imgcomic.naver.net/webtoon/651673/306/20180515163247_abac8024f331501459367c79a4015103_IMAG01_13.jpg', 'http://imgcomic.naver.net/webtoon/651673/306/20180515163247_abac8024f331501459367c79a4015103_IMAG01_14.jpg']\n",
      "['http://imgcomic.naver.net/webtoon/651673/305/20180511171125_79988c51f1ea6c304fac26a3492c3923_IMAG01_1.jpg', 'http://imgcomic.naver.net/webtoon/651673/305/20180511171125_79988c51f1ea6c304fac26a3492c3923_IMAG01_2.jpg', 'http://imgcomic.naver.net/webtoon/651673/305/20180511171125_79988c51f1ea6c304fac26a3492c3923_IMAG01_3.jpg', 'http://imgcomic.naver.net/webtoon/651673/305/20180511171125_79988c51f1ea6c304fac26a3492c3923_IMAG01_4.jpg', 'http://imgcomic.naver.net/webtoon/651673/305/20180511171125_79988c51f1ea6c304fac26a3492c3923_IMAG01_5.jpg', 'http://imgcomic.naver.net/webtoon/651673/305/20180511171125_79988c51f1ea6c304fac26a3492c3923_IMAG01_6.jpg', 'http://imgcomic.naver.net/webtoon/651673/305/20180511171125_79988c51f1ea6c304fac26a3492c3923_IMAG01_7.jpg', 'http://imgcomic.naver.net/webtoon/651673/305/20180511171125_79988c51f1ea6c304fac26a3492c3923_IMAG01_8.jpg', 'http://imgcomic.naver.net/webtoon/651673/305/20180511171125_79988c51f1ea6c304fac26a3492c3923_IMAG01_9.jpg', 'http://imgcomic.naver.net/webtoon/651673/305/20180511171125_79988c51f1ea6c304fac26a3492c3923_IMAG01_10.jpg', 'http://imgcomic.naver.net/webtoon/651673/305/20180511171125_79988c51f1ea6c304fac26a3492c3923_IMAG01_11.jpg', 'http://imgcomic.naver.net/webtoon/651673/305/20180511171125_79988c51f1ea6c304fac26a3492c3923_IMAG01_12.jpg', 'http://imgcomic.naver.net/webtoon/651673/305/20180511171125_79988c51f1ea6c304fac26a3492c3923_IMAG01_13.jpg']\n",
      "['http://imgcomic.naver.net/webtoon/651673/304/20180508143859_f34d5570dab6f08456fb6b0ceade76fe_IMAG01_1.jpg', 'http://imgcomic.naver.net/webtoon/651673/304/20180508143859_f34d5570dab6f08456fb6b0ceade76fe_IMAG01_2.jpg', 'http://imgcomic.naver.net/webtoon/651673/304/20180508143859_f34d5570dab6f08456fb6b0ceade76fe_IMAG01_3.jpg', 'http://imgcomic.naver.net/webtoon/651673/304/20180508143859_f34d5570dab6f08456fb6b0ceade76fe_IMAG01_4.jpg', 'http://imgcomic.naver.net/webtoon/651673/304/20180508143859_f34d5570dab6f08456fb6b0ceade76fe_IMAG01_5.jpg', 'http://imgcomic.naver.net/webtoon/651673/304/20180508143859_f34d5570dab6f08456fb6b0ceade76fe_IMAG01_6.jpg', 'http://imgcomic.naver.net/webtoon/651673/304/20180508143859_f34d5570dab6f08456fb6b0ceade76fe_IMAG01_7.jpg', 'http://imgcomic.naver.net/webtoon/651673/304/20180508143859_f34d5570dab6f08456fb6b0ceade76fe_IMAG01_8.jpg', 'http://imgcomic.naver.net/webtoon/651673/304/20180508143859_f34d5570dab6f08456fb6b0ceade76fe_IMAG01_9.jpg', 'http://imgcomic.naver.net/webtoon/651673/304/20180508143859_f34d5570dab6f08456fb6b0ceade76fe_IMAG01_10.jpg', 'http://imgcomic.naver.net/webtoon/651673/304/20180508143859_f34d5570dab6f08456fb6b0ceade76fe_IMAG01_11.jpg', 'http://imgcomic.naver.net/webtoon/651673/304/20180508143859_f34d5570dab6f08456fb6b0ceade76fe_IMAG01_12.jpg', 'http://imgcomic.naver.net/webtoon/651673/304/20180508143859_f34d5570dab6f08456fb6b0ceade76fe_IMAG01_13.jpg', 'http://imgcomic.naver.net/webtoon/651673/304/20180508143859_f34d5570dab6f08456fb6b0ceade76fe_IMAG01_14.jpg']\n",
      "['http://imgcomic.naver.net/webtoon/651673/303/20180504170757_cbf7c675704b31757e5160fc90b11dcb_IMAG01_1.jpg', 'http://imgcomic.naver.net/webtoon/651673/303/20180504170757_cbf7c675704b31757e5160fc90b11dcb_IMAG01_2.jpg', 'http://imgcomic.naver.net/webtoon/651673/303/20180504170757_cbf7c675704b31757e5160fc90b11dcb_IMAG01_3.jpg', 'http://imgcomic.naver.net/webtoon/651673/303/20180504170757_cbf7c675704b31757e5160fc90b11dcb_IMAG01_4.jpg', 'http://imgcomic.naver.net/webtoon/651673/303/20180504170757_cbf7c675704b31757e5160fc90b11dcb_IMAG01_5.jpg', 'http://imgcomic.naver.net/webtoon/651673/303/20180504170757_cbf7c675704b31757e5160fc90b11dcb_IMAG01_6.jpg', 'http://imgcomic.naver.net/webtoon/651673/303/20180504170757_cbf7c675704b31757e5160fc90b11dcb_IMAG01_7.jpg', 'http://imgcomic.naver.net/webtoon/651673/303/20180504170757_cbf7c675704b31757e5160fc90b11dcb_IMAG01_8.jpg', 'http://imgcomic.naver.net/webtoon/651673/303/20180504170757_cbf7c675704b31757e5160fc90b11dcb_IMAG01_9.jpg', 'http://imgcomic.naver.net/webtoon/651673/303/20180504170757_cbf7c675704b31757e5160fc90b11dcb_IMAG01_10.jpg', 'http://imgcomic.naver.net/webtoon/651673/303/20180504170757_cbf7c675704b31757e5160fc90b11dcb_IMAG01_11.jpg', 'http://imgcomic.naver.net/webtoon/651673/303/20180504170757_cbf7c675704b31757e5160fc90b11dcb_IMAG01_12.jpg', 'http://imgcomic.naver.net/webtoon/651673/303/20180504170757_cbf7c675704b31757e5160fc90b11dcb_IMAG01_13.jpg', 'http://imgcomic.naver.net/webtoon/651673/303/20180504170757_cbf7c675704b31757e5160fc90b11dcb_IMAG01_14.jpg', 'http://imgcomic.naver.net/webtoon/651673/303/20180504170757_cbf7c675704b31757e5160fc90b11dcb_IMAG01_15.jpg', 'http://imgcomic.naver.net/webtoon/651673/303/20180504170757_cbf7c675704b31757e5160fc90b11dcb_IMAG01_16.jpg', 'http://imgcomic.naver.net/webtoon/651673/303/20180504170757_cbf7c675704b31757e5160fc90b11dcb_IMAG01_17.jpg']\n",
      "['http://imgcomic.naver.net/webtoon/651673/302/20180501173825_7d4baf0fa1be0b231ac918b7e508d44f_IMAG01_1.jpg', 'http://imgcomic.naver.net/webtoon/651673/302/20180501173825_7d4baf0fa1be0b231ac918b7e508d44f_IMAG01_2.jpg', 'http://imgcomic.naver.net/webtoon/651673/302/20180501173825_7d4baf0fa1be0b231ac918b7e508d44f_IMAG01_3.jpg', 'http://imgcomic.naver.net/webtoon/651673/302/20180501173825_7d4baf0fa1be0b231ac918b7e508d44f_IMAG01_4.jpg', 'http://imgcomic.naver.net/webtoon/651673/302/20180501173825_7d4baf0fa1be0b231ac918b7e508d44f_IMAG01_5.jpg', 'http://imgcomic.naver.net/webtoon/651673/302/20180501173825_7d4baf0fa1be0b231ac918b7e508d44f_IMAG01_6.jpg', 'http://imgcomic.naver.net/webtoon/651673/302/20180501173825_7d4baf0fa1be0b231ac918b7e508d44f_IMAG01_7.jpg', 'http://imgcomic.naver.net/webtoon/651673/302/20180501173825_7d4baf0fa1be0b231ac918b7e508d44f_IMAG01_8.jpg', 'http://imgcomic.naver.net/webtoon/651673/302/20180501173825_7d4baf0fa1be0b231ac918b7e508d44f_IMAG01_9.jpg', 'http://imgcomic.naver.net/webtoon/651673/302/20180501173825_7d4baf0fa1be0b231ac918b7e508d44f_IMAG01_10.jpg', 'http://imgcomic.naver.net/webtoon/651673/302/20180501173825_7d4baf0fa1be0b231ac918b7e508d44f_IMAG01_11.jpg', 'http://imgcomic.naver.net/webtoon/651673/302/20180501173825_7d4baf0fa1be0b231ac918b7e508d44f_IMAG01_12.jpg', 'http://imgcomic.naver.net/webtoon/651673/302/20180501173825_7d4baf0fa1be0b231ac918b7e508d44f_IMAG01_13.jpg']\n",
      "['http://imgcomic.naver.net/webtoon/651673/301/20180427153552_7cfe845019308edbc4f31a1a14e6396c_IMAG01_1.jpg', 'http://imgcomic.naver.net/webtoon/651673/301/20180427153552_7cfe845019308edbc4f31a1a14e6396c_IMAG01_2.jpg', 'http://imgcomic.naver.net/webtoon/651673/301/20180427153552_7cfe845019308edbc4f31a1a14e6396c_IMAG01_3.jpg', 'http://imgcomic.naver.net/webtoon/651673/301/20180427153552_7cfe845019308edbc4f31a1a14e6396c_IMAG01_4.jpg', 'http://imgcomic.naver.net/webtoon/651673/301/20180427153552_7cfe845019308edbc4f31a1a14e6396c_IMAG01_5.jpg', 'http://imgcomic.naver.net/webtoon/651673/301/20180427153552_7cfe845019308edbc4f31a1a14e6396c_IMAG01_6.jpg', 'http://imgcomic.naver.net/webtoon/651673/301/20180427153552_7cfe845019308edbc4f31a1a14e6396c_IMAG01_7.jpg', 'http://imgcomic.naver.net/webtoon/651673/301/20180427153552_7cfe845019308edbc4f31a1a14e6396c_IMAG01_8.jpg', 'http://imgcomic.naver.net/webtoon/651673/301/20180427153552_7cfe845019308edbc4f31a1a14e6396c_IMAG01_9.jpg', 'http://imgcomic.naver.net/webtoon/651673/301/20180427153552_7cfe845019308edbc4f31a1a14e6396c_IMAG01_10.jpg', 'http://imgcomic.naver.net/webtoon/651673/301/20180427153552_7cfe845019308edbc4f31a1a14e6396c_IMAG01_11.jpg', 'http://imgcomic.naver.net/webtoon/651673/301/20180427153552_7cfe845019308edbc4f31a1a14e6396c_IMAG01_12.jpg', 'http://imgcomic.naver.net/webtoon/651673/301/20180427153552_7cfe845019308edbc4f31a1a14e6396c_IMAG01_13.jpg', 'http://imgcomic.naver.net/webtoon/651673/301/20180427153552_7cfe845019308edbc4f31a1a14e6396c_IMAG01_14.jpg']\n"
     ]
    }
   ],
   "source": [
    "for i in range(len(yumi.episode_list)):\n",
    "    print(yumi.episode_list[i].image_list[0].image_list)"
   ]
  },
  {
   "cell_type": "code",
   "execution_count": 34,
   "metadata": {},
   "outputs": [
    {
     "name": "stdout",
     "output_type": "stream",
     "text": [
      "1. 안녕, 대학생\n",
      "2. 대학일기\n",
      "선택: 1\n"
     ]
    }
   ],
   "source": [
    "webtoon = Webtoon.search_webtoon('대학')"
   ]
  },
  {
   "cell_type": "code",
   "execution_count": 41,
   "metadata": {},
   "outputs": [
    {
     "name": "stdout",
     "output_type": "stream",
     "text": [
      "<__main__.Webtoon object at 0x10eb81080>\n"
     ]
    }
   ],
   "source": [
    "print(webtoon)"
   ]
  },
  {
   "cell_type": "code",
   "execution_count": 42,
   "metadata": {},
   "outputs": [
    {
     "data": {
      "text/plain": [
       "<__main__.Webtoon at 0x10eb811d0>"
      ]
     },
     "execution_count": 42,
     "metadata": {},
     "output_type": "execute_result"
    }
   ],
   "source": [
    "webtoon.webtoon_id"
   ]
  },
  {
   "cell_type": "code",
   "execution_count": 49,
   "metadata": {},
   "outputs": [],
   "source": [
    "webtoon.webtoon_id.rework()"
   ]
  },
  {
   "cell_type": "code",
   "execution_count": 51,
   "metadata": {},
   "outputs": [
    {
     "data": {
      "text/plain": [
       "'안녕, 대학생'"
      ]
     },
     "execution_count": 51,
     "metadata": {},
     "output_type": "execute_result"
    }
   ],
   "source": [
    "webtoon.webtoon_id.title"
   ]
  },
  {
   "cell_type": "code",
   "execution_count": 52,
   "metadata": {},
   "outputs": [
    {
     "data": {
      "text/plain": [
       "'다니'"
      ]
     },
     "execution_count": 52,
     "metadata": {},
     "output_type": "execute_result"
    }
   ],
   "source": [
    "webtoon.webtoon_id.author"
   ]
  }
 ],
 "metadata": {
  "kernelspec": {
   "display_name": "Python 3",
   "language": "python",
   "name": "python3"
  },
  "language_info": {
   "codemirror_mode": {
    "name": "ipython",
    "version": 3
   },
   "file_extension": ".py",
   "mimetype": "text/x-python",
   "name": "python",
   "nbconvert_exporter": "python",
   "pygments_lexer": "ipython3",
   "version": "3.6.5"
  }
 },
 "nbformat": 4,
 "nbformat_minor": 2
}
