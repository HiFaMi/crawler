{
 "cells": [
  {
   "cell_type": "code",
   "execution_count": 1,
   "metadata": {},
   "outputs": [],
   "source": [
    "import os\n",
    "import requests\n",
    "from bs4 import BeautifulSoup\n",
    "import re\n",
    "    "
   ]
  },
  {
   "cell_type": "code",
   "execution_count": 2,
   "metadata": {},
   "outputs": [],
   "source": [
    "class Episode:\n",
    "\n",
    "    def __init__(self, webtoon_id, no, url_thumbnail, title, rating, created_date):\n",
    "        self.webtoon_id = webtoon_id\n",
    "        self.no = no\n",
    "        self.url_thumbnail = url_thumbnail\n",
    "        self.title = title\n",
    "        self.rating = rating\n",
    "        self.created_date = created_date\n",
    "        self.image_list = []\n",
    "\n",
    "    @property\n",
    "    def info(self):\n",
    "        #urlencode방식은 여기서 밖에 안쓰게 되니 info에서만 import\n",
    "        from urllib.parse import urlencode\n",
    "        \n",
    "        payload = {'titleId': self.webtoon_id , 'no': self.no}\n",
    "        url = 'http://comic.naver.com/webtoon/detail.nhn?'\n",
    "        # urlencode를 통해 payload의 값이 key1=value1&key2=value2값으로 나오게 됨\n",
    "        # url문자열과 urlencode를 통해 합쳐지 값을 더함다.\n",
    "        # 문자열 + 문자열\n",
    "        result = url+urlencode(payload)\n",
    "        return result\n",
    "\n",
    "    \n",
    "    def get_image_url_list(self):\n",
    "        # 그냥 함수가 실행 된 것을 알려줌\n",
    "        print('get_image-url_list_start')\n",
    "        # 파일 경로\n",
    "        file_path = 'data/episode_detail-{}-{}.html'.format(self.webtoon_id, self.no)\n",
    "        # file_path 값을 이용하여 만약 해당 경로에 값이 없을경우 파일을 만들어주고\n",
    "        # 그 안에 self.info의 값을 가져와 requests.get을 이용하여\n",
    "        # 해당 url의 text(태그 및 속성)값을 가져와서 적고 저장\n",
    "        # 해당경로 파일 존재시 읽어오기\n",
    "        if not os.path.exists(file_path):\n",
    "            url = requests.get(self.info)\n",
    "            with open('{}'.format(file_path), 'wt') as f:\n",
    "                f.write(url.text)\n",
    "        with open('{}'.format(file_path), 'rt') as f:\n",
    "            html = f.read()\n",
    "\n",
    "        soup = BeautifulSoup(html, 'lxml')\n",
    "        # img_list는 BeautifulSoup을 이용하여 해당 태그 안에 있는 문자를 가져온다 -> 리스트 형식\n",
    "        img_list = soup.select('div.wt_viewer > img')\n",
    "        #img_list중 하나하나의 값을 img로 가져온 후 그 안의 'src' 값을 반환\n",
    "        return [img.get('src') for img in img_list]\n",
    "\n",
    "    def download_all_images(self):\n",
    "        # download method를 이용하여 get_image_url_list method에 반환값 즉, src의 값을 url에 넣고 실행\n",
    "        for url in self.get_image_url_list():\n",
    "            self.download(url)\n",
    "\n",
    "    def download(self, url_img):\n",
    "        # Referer: 이전 페이지 URL(어떤 페이지를 거쳐서 왔는가?)\n",
    "        # 몇몇 사이트는 Referer 헤더 값을 보고 응답을 거부하기도 함\n",
    "        # 따라서 Referer 값을 커스텀 해 주어야 한다.\n",
    "        url_referer = 'http://comic.naver.com/webtoon/list.nhn?titledId={}'.format(self.webtoon_id)\n",
    "        headers = {\n",
    "            'Referer': url_referer\n",
    "        }\n",
    "\n",
    "        response = requests.get(url_img, headers=headers)\n",
    "\n",
    "        # '/'을 기준으로 1번만 split을 하는데 오른쪽 부터 'r(right)'split 값중 마지막 값\n",
    "        file_name = url_img.rsplit('/', 1)[-1]\n",
    "        dir_path = 'data/{}/{}'.format(self.webtoon_id, self.no)\n",
    "        \n",
    "        # os.mkdir(path) = <path>에 해당하는 디렉터리를 생성합니다.\n",
    "        # os.makedirs(path) = 인자로 전달된 디렉터리를 재귀적으로 생성\n",
    "        # 이미 디렉터리가 생성되어 있는 경우나 권한이 없어 생성할 수 없는 경우는 예외를 발생합니다.\n",
    "        os.makedirs(dir_path, exist_ok=True)\n",
    "\n",
    "        file_path = '{}/{}'.format(dir_path, file_name)\n",
    "\n",
    "        # wb는 이진파일 쓰기 전용\n",
    "        with open(file_path, 'wb') as f:\n",
    "            f.write(response.content)\n"
   ]
  },
  {
   "cell_type": "code",
   "execution_count": 3,
   "metadata": {},
   "outputs": [],
   "source": [
    "class Webtoon:\n",
    "    \n",
    "    def __init__(self, webtoon_id):\n",
    "        \n",
    "        self.webtoon_id = webtoon_id\n",
    "        self.title = None\n",
    "        self.author = None\n",
    "        self.description = None\n",
    "        self.episode_list = []\n",
    "        \n",
    "    def rework(self):\n",
    "        \n",
    "        \n",
    "        payload = {'titleId': self.webtoon_id}\n",
    "        if not os.path.exists('data/{}.html'.format(self.webtoon_id)):\n",
    "    \n",
    "            toon_url = requests.get('http://comic.naver.com/webtoon/list.nhn', params=payload)\n",
    "            with open('data/{}.html'.format(self.webtoon_id), 'wt') as f:\n",
    "                f.write(toon_url.text)\n",
    "                \n",
    "        with open('data/{}.html'.format(self.webtoon_id), 'rt') as f:\n",
    "            html = f.read()\n",
    "            \n",
    "            \n",
    "        soup = BeautifulSoup(html, 'lxml')\n",
    "        \n",
    "        # 각각의 태그 안에 있는 내용들을 BeautifulSoup을 통해 파싱\n",
    "        title_list = soup.select('div.detail > h2')\n",
    "        self.title = title_list[0].contents[0].strip()\n",
    "        \n",
    "        auth_list = soup.select('span.\"wrt_nm\"')\n",
    "        self.author = auth_list[0].string.strip()\n",
    "        \n",
    "        self.description = soup.p.string\n",
    "        \n",
    "        \n",
    "    def update(self):\n",
    "        payload = {'titleId': self.webtoon_id}\n",
    "        if not os.path.exists('data/{}.html'.format(self.webtoon_id)):\n",
    "    \n",
    "            toon_url = requests.get('http://comic.naver.com/webtoon/list.nhn', params=payload)\n",
    "            with open('data/{}.html'.format(self.webtoon_id), 'wt') as f:\n",
    "                f.write(toon_url.text)\n",
    "                \n",
    "        with open('data/{}.html'.format(self.webtoon_id), 'rt') as f:\n",
    "            html = f.read()\n",
    "        soup = BeautifulSoup(html, 'lxml')\n",
    "        # image_url\n",
    "        list_src = soup.select(\"a > img['src']\")\n",
    "\n",
    "        # 각 화의 제목\n",
    "        list_of_title = soup.select('td.title > a')\n",
    "\n",
    "        # 별점 리스트\n",
    "        rating_list = soup.select('div.rating_type > strong')\n",
    "\n",
    "        # 등록일\n",
    "        date_list = soup.select('td.num')\n",
    "\n",
    "        # no요소를 빈 리스트 안에 넣은 후 반환\n",
    "        finall_list = []\n",
    "        no_list = soup.select('td.title > a[href]')\n",
    "        for i in range(len(no_list)):\n",
    "            a = no_list[i].get('href')\n",
    "            # no값만 가져오기 위하여 href값 안에서 정규표현식을 이용하여 파싱\n",
    "            finall_list.append(re.findall(r'no=(.*?)&', a)[0])\n",
    "\n",
    "\n",
    "        # 리스트에 값이 아닌 클래스 생성자를 넣음\n",
    "        for i in range(len(list_of_title)):\n",
    "            inst = Episode(self.webtoon_id, finall_list[i], list_src[i+1].get('src'), list_of_title[i].string, rating_list[i].string,date_list[i].string)\n",
    "            self.episode_list.append(inst)\n",
    "            \n",
    "\n",
    "    @classmethod\n",
    "    def search_webtoon(cls, webtoon_name):\n",
    "        \n",
    "        if not os.path.exists('data/all_webtoon.html'):\n",
    "            all_webtoon_url = requests.get('http://comic.naver.com/webtoon/weekday.nhn')\n",
    "            with open('data/all_webtoon.html','wt') as f:\n",
    "                f.write(all_webtoon_url.text)\n",
    "                \n",
    "        with open('data/all_webtoon.html','rt') as f:\n",
    "            html = f.read()\n",
    "                \n",
    "        soup = BeautifulSoup(html, 'lxml')\n",
    "        \n",
    "        all_webtoon_list = soup.select('div.col_inner > ul > li > a')\n",
    "        all_dict_webtoon_list = []\n",
    "        # 모든 웹툰 제목과 그에 해당하는 titleId를 파싱하여 딕트 형태로 만듬\n",
    "        for i in range(len(all_webtoon_list)):\n",
    "            href = all_webtoon_list[i]['href']\n",
    "            titleId = re.findall('titleId=(.*?)&.*?',href)\n",
    "            (all_dict_webtoon_list).append({'Title' :all_webtoon_list[i].string, 'titleId' : titleId[0]})\n",
    "        \n",
    "        search_list = []\n",
    "        # 찾으려는 웹툰의 부분적인 문자를 받아 그 문자가 포함되어 있는 모든 파일을 혹시 모를 중복을 없게 만들고\n",
    "        # set을 사용한 경우 딕트 값으로 바뀌기 떄문에 list화 시켜준다.\n",
    "        for i in range(len(all_dict_webtoon_list)):\n",
    "            if webtoon_name in all_dict_webtoon_list[i]['Title']:\n",
    "                search_list.append(all_dict_webtoon_list[i]['Title'])\n",
    "        search_list = list(set(search_list))\n",
    "        \n",
    "        # 해당 결과에 해당하는 리스트를 보여주고 찾으려는 웹튼의 번호를 적게 되면\n",
    "        # webtoon에게는 선택 된 값이 주어진다.\n",
    "        while True:\n",
    "            for index, title in enumerate(search_list):\n",
    "                print('{}. {}'.format(index+1, title))\n",
    "                \n",
    "            user_input = input('선택: ')\n",
    "            webtoon = search_list[int(user_input)-1]\n",
    "            break\n",
    "        # webtoon에 주어진 값을 이용해 위에서 만든 딕트 타입과 비교하여\n",
    "        # titleId를 반환하고 생성자를 만들어 준다.\n",
    "        for i in range(len(all_dict_webtoon_list)):\n",
    "            if webtoon == all_dict_webtoon_list[i]['Title']:\n",
    "                return cls((all_dict_webtoon_list[i]['titleId']))"
   ]
  },
  {
   "cell_type": "code",
   "execution_count": 4,
   "metadata": {},
   "outputs": [],
   "source": [
    "class EpisodeImage:\n",
    "    def __init__(self, episode, url):\n",
    "        self.episode = episode \n",
    "        self.url = url\n",
    "        self.image_url_list = []\n",
    "    \n",
    "    def image_crawler(self, episode_user):\n",
    "\n",
    "        if not os.path.exists('data/{}.html'.format(episode_user)):\n",
    "            toon_url = requests.get(self.url)\n",
    "            with open('data/{}.html'.format(episode_user), 'wt') as f:\n",
    "                f.write(toon_url.text)\n",
    "\n",
    "        with open('data/{}.html'.format(episode_user), 'rt') as f:\n",
    "            html = f.read()\n",
    "\n",
    "        soup = BeautifulSoup(html, 'lxml')\n",
    "        # 아래의 태그에 해당하는 태그를 파싱\n",
    "        list_src = soup.select('div.wt_viewer > img')\n",
    "        # 생성자를 만들어 준다\n",
    "        user = EpisodeImage(self.episode, self.url)\n",
    "        # 생성자의 리스트에 list_src의 태그 안에서 'src' 값만 넘겨준다.\n",
    "        for i in range(len(list_src)):\n",
    "            user.image_url_list.append(list_src[i]['src'])\n",
    "\n",
    "        episode_user.image_list.append(user)\n",
    "        \n",
    "   \n",
    "        "
   ]
  },
  {
   "cell_type": "code",
   "execution_count": null,
   "metadata": {},
   "outputs": [],
   "source": []
  },
  {
   "cell_type": "code",
   "execution_count": 5,
   "metadata": {},
   "outputs": [],
   "source": [
    "yumi = Webtoon(651673)"
   ]
  },
  {
   "cell_type": "code",
   "execution_count": 6,
   "metadata": {},
   "outputs": [
    {
     "data": {
      "text/plain": [
       "651673"
      ]
     },
     "execution_count": 6,
     "metadata": {},
     "output_type": "execute_result"
    }
   ],
   "source": [
    "yumi.webtoon_id"
   ]
  },
  {
   "cell_type": "code",
   "execution_count": 7,
   "metadata": {},
   "outputs": [],
   "source": [
    "yumi.rework()"
   ]
  },
  {
   "cell_type": "code",
   "execution_count": 8,
   "metadata": {},
   "outputs": [
    {
     "data": {
      "text/plain": [
       "'유미의 세포들'"
      ]
     },
     "execution_count": 8,
     "metadata": {},
     "output_type": "execute_result"
    }
   ],
   "source": [
    "yumi.title"
   ]
  },
  {
   "cell_type": "code",
   "execution_count": 9,
   "metadata": {},
   "outputs": [
    {
     "data": {
      "text/plain": [
       "'이동건'"
      ]
     },
     "execution_count": 9,
     "metadata": {},
     "output_type": "execute_result"
    }
   ],
   "source": [
    "yumi.author"
   ]
  },
  {
   "cell_type": "code",
   "execution_count": 10,
   "metadata": {},
   "outputs": [],
   "source": [
    "yumi.update()"
   ]
  },
  {
   "cell_type": "code",
   "execution_count": 11,
   "metadata": {},
   "outputs": [
    {
     "name": "stdout",
     "output_type": "stream",
     "text": [
      "[<__main__.Episode object at 0x1051b7128>, <__main__.Episode object at 0x1051b7160>, <__main__.Episode object at 0x1051b7198>, <__main__.Episode object at 0x1051b71d0>, <__main__.Episode object at 0x1051b7208>, <__main__.Episode object at 0x1051b7240>, <__main__.Episode object at 0x1051b7278>, <__main__.Episode object at 0x1051b72b0>, <__main__.Episode object at 0x1051b72e8>, <__main__.Episode object at 0x1051b7320>]\n"
     ]
    }
   ],
   "source": [
    "print(yumi.episode_list)"
   ]
  },
  {
   "cell_type": "code",
   "execution_count": 12,
   "metadata": {},
   "outputs": [
    {
     "name": "stdout",
     "output_type": "stream",
     "text": [
      "http://comic.naver.com/webtoon/detail.nhn?titleId=651673&no=310\n",
      "http://comic.naver.com/webtoon/detail.nhn?titleId=651673&no=309\n",
      "http://comic.naver.com/webtoon/detail.nhn?titleId=651673&no=308\n",
      "http://comic.naver.com/webtoon/detail.nhn?titleId=651673&no=307\n",
      "http://comic.naver.com/webtoon/detail.nhn?titleId=651673&no=306\n",
      "http://comic.naver.com/webtoon/detail.nhn?titleId=651673&no=305\n",
      "http://comic.naver.com/webtoon/detail.nhn?titleId=651673&no=304\n",
      "http://comic.naver.com/webtoon/detail.nhn?titleId=651673&no=303\n",
      "http://comic.naver.com/webtoon/detail.nhn?titleId=651673&no=302\n",
      "http://comic.naver.com/webtoon/detail.nhn?titleId=651673&no=301\n"
     ]
    }
   ],
   "source": [
    "for episode in yumi.episode_list:\n",
    "    print(episode.info)\n",
    "    koko = EpisodeImage('yumi',episode.info)\n",
    "    koko.image_crawler(episode)\n",
    "    "
   ]
  },
  {
   "cell_type": "code",
   "execution_count": 13,
   "metadata": {},
   "outputs": [
    {
     "name": "stdout",
     "output_type": "stream",
     "text": [
      "[<__main__.EpisodeImage object at 0x105b6cb00>]\n",
      "[<__main__.EpisodeImage object at 0x105ca4588>]\n",
      "[<__main__.EpisodeImage object at 0x105aa0b38>]\n",
      "[<__main__.EpisodeImage object at 0x105de8080>]\n",
      "[<__main__.EpisodeImage object at 0x105d8d0b8>]\n",
      "[<__main__.EpisodeImage object at 0x105ee5390>]\n",
      "[<__main__.EpisodeImage object at 0x105fe3860>]\n",
      "[<__main__.EpisodeImage object at 0x105f88eb8>]\n",
      "[<__main__.EpisodeImage object at 0x1051b79b0>]\n",
      "[<__main__.EpisodeImage object at 0x105dad400>]\n"
     ]
    }
   ],
   "source": [
    "for i in range(len(yumi.episode_list)):\n",
    "    print(yumi.episode_list[i].image_list)"
   ]
  },
  {
   "cell_type": "code",
   "execution_count": 14,
   "metadata": {},
   "outputs": [
    {
     "data": {
      "text/plain": [
       "<__main__.EpisodeImage at 0x105b6cb00>"
      ]
     },
     "execution_count": 14,
     "metadata": {},
     "output_type": "execute_result"
    }
   ],
   "source": [
    "yumi.episode_list[0].image_list[0]"
   ]
  },
  {
   "cell_type": "code",
   "execution_count": 15,
   "metadata": {},
   "outputs": [
    {
     "data": {
      "text/plain": [
       "['http://imgcomic.naver.net/webtoon/651673/310/20180529183300_9e5b6418e84912e27232e998ae93797e_IMAG01_1.jpg',\n",
       " 'http://imgcomic.naver.net/webtoon/651673/310/20180529183300_9e5b6418e84912e27232e998ae93797e_IMAG01_2.jpg',\n",
       " 'http://imgcomic.naver.net/webtoon/651673/310/20180529183300_9e5b6418e84912e27232e998ae93797e_IMAG01_3.jpg',\n",
       " 'http://imgcomic.naver.net/webtoon/651673/310/20180529183300_9e5b6418e84912e27232e998ae93797e_IMAG01_4.jpg',\n",
       " 'http://imgcomic.naver.net/webtoon/651673/310/20180529183300_9e5b6418e84912e27232e998ae93797e_IMAG01_5.jpg',\n",
       " 'http://imgcomic.naver.net/webtoon/651673/310/20180529183300_9e5b6418e84912e27232e998ae93797e_IMAG01_6.jpg',\n",
       " 'http://imgcomic.naver.net/webtoon/651673/310/20180529183300_9e5b6418e84912e27232e998ae93797e_IMAG01_7.jpg',\n",
       " 'http://imgcomic.naver.net/webtoon/651673/310/20180529183300_9e5b6418e84912e27232e998ae93797e_IMAG01_8.jpg',\n",
       " 'http://imgcomic.naver.net/webtoon/651673/310/20180529183300_9e5b6418e84912e27232e998ae93797e_IMAG01_9.jpg',\n",
       " 'http://imgcomic.naver.net/webtoon/651673/310/20180529183300_9e5b6418e84912e27232e998ae93797e_IMAG01_10.jpg',\n",
       " 'http://imgcomic.naver.net/webtoon/651673/310/20180529183300_9e5b6418e84912e27232e998ae93797e_IMAG01_11.jpg',\n",
       " 'http://imgcomic.naver.net/webtoon/651673/310/20180529183300_9e5b6418e84912e27232e998ae93797e_IMAG01_12.jpg',\n",
       " 'http://imgcomic.naver.net/webtoon/651673/310/20180529183300_9e5b6418e84912e27232e998ae93797e_IMAG01_13.jpg',\n",
       " 'http://imgcomic.naver.net/webtoon/651673/310/20180529183300_9e5b6418e84912e27232e998ae93797e_IMAG01_14.jpg']"
      ]
     },
     "execution_count": 15,
     "metadata": {},
     "output_type": "execute_result"
    }
   ],
   "source": [
    "yumi.episode_list[0].image_list[0].image_url_list"
   ]
  },
  {
   "cell_type": "code",
   "execution_count": 16,
   "metadata": {},
   "outputs": [
    {
     "name": "stdout",
     "output_type": "stream",
     "text": [
      "1. 신의 탑\n",
      "선택: 1\n"
     ]
    }
   ],
   "source": [
    "webtoon = Webtoon.search_webtoon('탑')"
   ]
  },
  {
   "cell_type": "code",
   "execution_count": 17,
   "metadata": {},
   "outputs": [
    {
     "name": "stdout",
     "output_type": "stream",
     "text": [
      "<__main__.Webtoon object at 0x105d5c9b0>\n"
     ]
    }
   ],
   "source": [
    "print(webtoon)"
   ]
  },
  {
   "cell_type": "code",
   "execution_count": 18,
   "metadata": {},
   "outputs": [
    {
     "data": {
      "text/plain": [
       "'183559'"
      ]
     },
     "execution_count": 18,
     "metadata": {},
     "output_type": "execute_result"
    }
   ],
   "source": [
    "webtoon.webtoon_id"
   ]
  },
  {
   "cell_type": "code",
   "execution_count": 19,
   "metadata": {},
   "outputs": [],
   "source": [
    "webtoon.rework()"
   ]
  },
  {
   "cell_type": "code",
   "execution_count": 20,
   "metadata": {},
   "outputs": [
    {
     "data": {
      "text/plain": [
       "'신의 탑'"
      ]
     },
     "execution_count": 20,
     "metadata": {},
     "output_type": "execute_result"
    }
   ],
   "source": [
    "webtoon.title"
   ]
  },
  {
   "cell_type": "code",
   "execution_count": 21,
   "metadata": {},
   "outputs": [
    {
     "data": {
      "text/plain": [
       "'SIU'"
      ]
     },
     "execution_count": 21,
     "metadata": {},
     "output_type": "execute_result"
    }
   ],
   "source": [
    "webtoon.author"
   ]
  },
  {
   "cell_type": "code",
   "execution_count": 23,
   "metadata": {},
   "outputs": [],
   "source": [
    "webtoon.update()"
   ]
  },
  {
   "cell_type": "code",
   "execution_count": 26,
   "metadata": {},
   "outputs": [],
   "source": [
    "e1 = webtoon.episode_list[0]"
   ]
  },
  {
   "cell_type": "code",
   "execution_count": 27,
   "metadata": {},
   "outputs": [
    {
     "name": "stdout",
     "output_type": "stream",
     "text": [
      "get_image-url_list_start\n"
     ]
    }
   ],
   "source": [
    "e1.download_all_images()"
   ]
  }
 ],
 "metadata": {
  "kernelspec": {
   "display_name": "Python 3",
   "language": "python",
   "name": "python3"
  },
  "language_info": {
   "codemirror_mode": {
    "name": "ipython",
    "version": 3
   },
   "file_extension": ".py",
   "mimetype": "text/x-python",
   "name": "python",
   "nbconvert_exporter": "python",
   "pygments_lexer": "ipython3",
   "version": "3.6.5"
  }
 },
 "nbformat": 4,
 "nbformat_minor": 2
}
